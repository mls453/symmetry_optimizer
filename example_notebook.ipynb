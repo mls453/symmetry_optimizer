{
 "cells": [
  {
   "cell_type": "code",
   "execution_count": 1,
   "metadata": {},
   "outputs": [],
   "source": [
    "import cvfunc\n",
    "import cv2\n",
    "import scale\n",
    "import symmetry\n",
    "from tqdm import tqdm\n",
    "import pandas as pd\n",
    "import glob\n",
    "import os\n",
    "import numpy as np\n",
    "import matplotlib.pyplot as plt\n",
    "import json\n",
    "from multiprocess import Pool\n",
    "from time import time\n",
    "from functools import partial\n",
    "plt.rcParams['figure.figsize'] = [10, 10]"
   ]
  },
  {
   "cell_type": "markdown",
   "metadata": {},
   "source": [
    "## Load and Basic Transformations"
   ]
  },
  {
   "cell_type": "code",
   "execution_count": 2,
   "metadata": {},
   "outputs": [],
   "source": [
    "#Paths\n",
    "original_images_path = '/Users/michaelsmith/Box/2D_symmetry_2021/Annotated/test_run/original'\n",
    "mirrored_images_path = \"/Users/michaelsmith/Box/2D_symmetry_2021/Annotated/test_run/mirrored\"\n",
    "scaled_images_path = \"/Users/michaelsmith/Box/2D_symmetry_2021/Annotated/test_run/shrink\"\n",
    "output_images_path = \"/Users/michaelsmith/Box/2D_symmetry_2021/Annotated/test_run/results\"\n",
    "# original_images_path = 'test_run/original'\n",
    "# mirrored_images_path = \"test_run/mirrored\"\n",
    "# scaled_images_path = \"test_run/shrink\"\n",
    "# output_images_path = \"test_run/results\""
   ]
  },
  {
   "cell_type": "code",
   "execution_count": 11,
   "metadata": {},
   "outputs": [
    {
     "name": "stderr",
     "output_type": "stream",
     "text": [
      "Progress: 100%|██████████| 3/3 [00:03<00:00,  1.27s/it]\n"
     ]
    }
   ],
   "source": [
    "#Mirroring images\n",
    "cvfunc.butterfly(\n",
    "    folder=original_images_path,\n",
    "    destination=mirrored_images_path,\n",
    "    left_keyword=\"left\",\n",
    "    right_keyword=\"right\",\n",
    "    bg_color=(1,1,1)\n",
    ")"
   ]
  },
  {
   "cell_type": "code",
   "execution_count": 12,
   "metadata": {},
   "outputs": [
    {
     "name": "stderr",
     "output_type": "stream",
     "text": [
      "Progress: 100%|██████████| 3/3 [00:00<00:00,  4.14it/s]\n",
      "Progress: 100%|██████████| 6/6 [00:00<00:00,  7.47it/s]\n"
     ]
    }
   ],
   "source": [
    "#Scaling down images\n",
    "for file in tqdm(glob.glob(mirrored_images_path+\"/*\"),desc=\"Progress\"):\n",
    "    original = cv2.imread(file)\n",
    "    resized = scale.resize(original,400) # height, in PX \n",
    "    savestring = os.path.join(scaled_images_path,f\"{os.path.splitext(os.path.basename(file))[0]}.png\")\n",
    "    cv2.imwrite(savestring,resized)\n",
    "for file in tqdm(glob.glob(original_images_path+\"/*\"),desc=\"Progress\"):\n",
    "    original = cv2.imread(file)\n",
    "    resized = scale.resize(original,400) # height, in PX \n",
    "    savestring = os.path.join(scaled_images_path,f\"{os.path.splitext(os.path.basename(file))[0]}.png\")\n",
    "    cv2.imwrite(savestring,resized)"
   ]
  },
  {
   "cell_type": "code",
   "execution_count": 13,
   "metadata": {},
   "outputs": [],
   "source": [
    "search_ratio = 0.05"
   ]
  },
  {
   "cell_type": "code",
   "execution_count": 14,
   "metadata": {},
   "outputs": [
    {
     "data": {
      "text/plain": [
       "['/Users/michaelsmith/Box/2D_symmetry_2021/Annotated/test_run/shrink/col61_day10_14apr2021_E_left.png',\n",
       " '/Users/michaelsmith/Box/2D_symmetry_2021/Annotated/test_run/shrink/col61_day10_14apr2021_E_left_col61_day10_14apr2021_W_right.png',\n",
       " '/Users/michaelsmith/Box/2D_symmetry_2021/Annotated/test_run/shrink/col61_day10_14apr2021_W_right.png',\n",
       " '/Users/michaelsmith/Box/2D_symmetry_2021/Annotated/test_run/shrink/col76_day10_14apr2021_E_left.png',\n",
       " '/Users/michaelsmith/Box/2D_symmetry_2021/Annotated/test_run/shrink/col76_day10_14apr2021_E_left_col76_day10_14apr2021_W_right.png',\n",
       " '/Users/michaelsmith/Box/2D_symmetry_2021/Annotated/test_run/shrink/col76_day10_14apr2021_W_right.png',\n",
       " '/Users/michaelsmith/Box/2D_symmetry_2021/Annotated/test_run/shrink/col76_day20_24apr2021_E_left.png',\n",
       " '/Users/michaelsmith/Box/2D_symmetry_2021/Annotated/test_run/shrink/col76_day20_24apr2021_E_left_col76_day20_24apr2021_W_right.png',\n",
       " '/Users/michaelsmith/Box/2D_symmetry_2021/Annotated/test_run/shrink/col76_day20_24apr2021_W_right.png']"
      ]
     },
     "execution_count": 14,
     "metadata": {},
     "output_type": "execute_result"
    }
   ],
   "source": [
    "glob_str = scaled_images_path+\"/*\"\n",
    "filenames = glob.glob(glob_str)\n",
    "filenames[:10]"
   ]
  },
  {
   "cell_type": "code",
   "execution_count": 15,
   "metadata": {},
   "outputs": [],
   "source": [
    "original_img = [cv2.imread(f) for f in glob.glob(glob_str)]"
   ]
  },
  {
   "cell_type": "markdown",
   "metadata": {},
   "source": [
    "In order to specify colors. Populate the file `palette.json` with the BGR colors of each image. You need to specify it twice because opencv assumes a range of colors instead of a single one.\n",
    "\n",
    "The `cvfunc.palette_guess` will attempt to assign a palette to a file. This may take a while to run. If you prefer to assign it manually, you can pass the palette directly to the argument `color_dict` in the function `symmetry.process_one`."
   ]
  },
  {
   "cell_type": "code",
   "execution_count": 16,
   "metadata": {},
   "outputs": [],
   "source": [
    "palette = {}\n",
    "with open(\"palette.json\") as jfile:\n",
    "    palette = json.load(jfile)\n",
    "#color = [cvfunc.palette_guess(im,palette) for im in tqdm(original_img, desc=\"Assigning color palettes\")]"
   ]
  },
  {
   "cell_type": "code",
   "execution_count": 17,
   "metadata": {},
   "outputs": [
    {
     "data": {
      "text/plain": [
       "(9, 9)"
      ]
     },
     "execution_count": 17,
     "metadata": {},
     "output_type": "execute_result"
    }
   ],
   "source": [
    "len(filenames),len(original_img)"
   ]
  },
  {
   "cell_type": "markdown",
   "metadata": {},
   "source": [
    "## Optimization - this didn't work, skip to validation"
   ]
  },
  {
   "cell_type": "code",
   "execution_count": 23,
   "metadata": {},
   "outputs": [],
   "source": [
    "# all_data = []\n",
    "# def f(x):\n",
    "#     img,filename = x  \n",
    "# #for img,filename,c in tqdm(zip(original_img,filenames,color),total=len(filenames)):\n",
    "#     data,generated_figures = symmetry.process_one(img,search_ratio,color_dict=palette[\"B\"],angle=0)\n",
    "#     for d in data:\n",
    "#         d.update({\"filename\": filename})\n",
    "#     return data\n",
    "# def g(x):\n",
    "#     img,filename = x\n",
    "# #for img,filename,c in tqdm(zip(original_img,filenames,color),total=len(filenames)):\n",
    "#     data,generated_figures = symmetry.process_one(img,search_ratio,color_dict=palette[\"B\"],angle=90)\n",
    "#     for d in data:\n",
    "#         d.update({\"filename\": filename})\n",
    "#     return data"
   ]
  },
  {
   "cell_type": "markdown",
   "metadata": {},
   "source": [
    "The ideal number of threads is the minimum in which the total CPU power is at 100%. Choosing large pictures might freeze your computer."
   ]
  },
  {
   "cell_type": "code",
   "execution_count": 24,
   "metadata": {},
   "outputs": [
    {
     "name": "stdout",
     "output_type": "stream",
     "text": [
      "thread __main__\n",
      "process_one 0.05340719223022461\n",
      "process_one 0.06030893325805664\n",
      "process_one 0.0673069953918457\n",
      "process_one 0.09938359260559082process_one \n",
      "0.09242796897888184\n",
      "process_one 0.054712772369384766process_one\n",
      " 0.04493594169616699\n",
      "process_oneprocess_one  0.045884847640991210.06781911849975586\n",
      "\n",
      "start\n",
      "process_one process_one 0.049275159835815430.055136919021606445process_one\n",
      "\n",
      " 0.05040597915649414\n",
      "process_one 0.07858014106750488\n",
      "process_one 0.08459806442260742\n",
      "process_oneprocess_one  0.0599920749664306640.05660295486450195\n",
      "\n",
      "process_one 0.04146718978881836\n",
      "process_one 0.06646108627319336\n",
      "Elapsed time 0.3623161315917969\n"
     ]
    }
   ],
   "source": [
    "all_data = []\n",
    "t = time()\n",
    "print(\"thread\", __name__)\n",
    "if __name__==\"__main__\":\n",
    "    with Pool(5) as p:\n",
    "        print(\"start\")\n",
    "        all_data += (p.map(partial(symmetry.f,angle=0,search_ratio=search_ratio,color_dict=palette[\"C\"]),zip(original_img,filenames)))\n",
    "        all_data += (p.map(partial(symmetry.f,angle=90,search_ratio=search_ratio,color_dict=palette[\"C\"]),zip(original_img,filenames)))\n",
    "    print(\"Elapsed time\", time()-t)\n",
    "    all_data_ravel = []\n",
    "    for a in all_data:\n",
    "        for b in a:\n",
    "            all_data_ravel.append(b)"
   ]
  },
  {
   "cell_type": "code",
   "execution_count": 25,
   "metadata": {},
   "outputs": [],
   "source": [
    "one_sided = pd.DataFrame(all_data_ravel)"
   ]
  },
  {
   "cell_type": "code",
   "execution_count": 26,
   "metadata": {},
   "outputs": [
    {
     "data": {
      "text/html": [
       "<div>\n",
       "<style scoped>\n",
       "    .dataframe tbody tr th:only-of-type {\n",
       "        vertical-align: middle;\n",
       "    }\n",
       "\n",
       "    .dataframe tbody tr th {\n",
       "        vertical-align: top;\n",
       "    }\n",
       "\n",
       "    .dataframe thead th {\n",
       "        text-align: right;\n",
       "    }\n",
       "</style>\n",
       "<table border=\"1\" class=\"dataframe\">\n",
       "  <thead>\n",
       "    <tr style=\"text-align: right;\">\n",
       "      <th></th>\n",
       "    </tr>\n",
       "  </thead>\n",
       "  <tbody>\n",
       "  </tbody>\n",
       "</table>\n",
       "</div>"
      ],
      "text/plain": [
       "Empty DataFrame\n",
       "Columns: []\n",
       "Index: []"
      ]
     },
     "execution_count": 26,
     "metadata": {},
     "output_type": "execute_result"
    }
   ],
   "source": [
    "one_sided.head()"
   ]
  },
  {
   "cell_type": "markdown",
   "metadata": {},
   "source": [
    "# Validation"
   ]
  },
  {
   "cell_type": "markdown",
   "metadata": {},
   "source": [
    "Since the background of this picture is red, you cannot use the `ncolor` parameter because it assumes it to be white.\n",
    "\n",
    "I also noticed that this picture has noisy colors on it, that will generate a measurement error when using the palette."
   ]
  },
  {
   "cell_type": "code",
   "execution_count": 27,
   "metadata": {},
   "outputs": [],
   "source": [
    "test_circ = cv2.imread(\"test6.png\")\n",
    "test_japan = cv2.imread(\"japan.png\")\n",
    "test = cv2.imread(\"square.png\")"
   ]
  },
  {
   "cell_type": "code",
   "execution_count": 28,
   "metadata": {},
   "outputs": [],
   "source": [
    "search_ratio = 0.05"
   ]
  },
  {
   "cell_type": "code",
   "execution_count": 29,
   "metadata": {},
   "outputs": [
    {
     "data": {
      "text/plain": [
       "<matplotlib.image.AxesImage at 0x13e6f7040>"
      ]
     },
     "execution_count": 29,
     "metadata": {},
     "output_type": "execute_result"
    },
    {
     "data": {
      "image/png": "[encoded data removed]",
      "text/plain": [
       "<Figure size 720x720 with 1 Axes>"
      ]
     },
     "metadata": {
      "needs_background": "light"
     },
     "output_type": "display_data"
    }
   ],
   "source": [
    "plt.imshow(test)"
   ]
  },
  {
   "cell_type": "code",
   "execution_count": 30,
   "metadata": {},
   "outputs": [
    {
     "data": {
      "text/plain": [
       "<matplotlib.image.AxesImage at 0x13e7c9a90>"
      ]
     },
     "execution_count": 30,
     "metadata": {},
     "output_type": "execute_result"
    },
    {
     "data": {
      "image/png": "[encoded data removed]",
      "text/plain": [
       "<Figure size 720x720 with 1 Axes>"
      ]
     },
     "metadata": {
      "needs_background": "light"
     },
     "output_type": "display_data"
    }
   ],
   "source": [
    "plt.imshow(test_circ)"
   ]
  },
  {
   "cell_type": "code",
   "execution_count": 31,
   "metadata": {},
   "outputs": [
    {
     "data": {
      "text/plain": [
       "<matplotlib.image.AxesImage at 0x13e844a30>"
      ]
     },
     "execution_count": 31,
     "metadata": {},
     "output_type": "execute_result"
    },
    {
     "data": {
      "image/png": "[encoded data removed]",
      "text/plain": [
       "<Figure size 720x720 with 1 Axes>"
      ]
     },
     "metadata": {
      "needs_background": "light"
     },
     "output_type": "display_data"
    }
   ],
   "source": [
    "plt.imshow(test_japan)"
   ]
  },
  {
   "cell_type": "code",
   "execution_count": 32,
   "metadata": {},
   "outputs": [],
   "source": [
    "# test_palette = {\n",
    "# \"r0_circle\":[37,60,218,37,60,218],\n",
    "# \"r1_square\":[87,109,236,87,109,236],\n",
    "# \"r2_rectangle\":[145,155,241,145,155,241],\n",
    "# \"bg\":[23,42,166,23,42,166]\n",
    "# }\n",
    "\n",
    "# Adding a RANGE to the values... (-2 for the first 3 values; +2 for the last 3 values)\n",
    "test_palette = {\n",
    "\"r0_circle\":[35,58,216,39,62,220],\n",
    "\"r1_square\":[85,107,234,89,111,238],\n",
    "\"r2_rectangle\":[143,153,239,147,157,243],\n",
    "\"bg\":[21,40,164,25,44,168]\n",
    "}\n",
    "\n",
    "test_palette_square = {\n",
    "\"square\":[0,0,255,0,0,255],\n",
    "\"rectangle\":[255,0,0,255,0,0],\n",
    "\"bg\":[255,255,255,255,255,255]\n",
    "}\n",
    "\n",
    "test_palette_japan = {\n",
    "\"circle\":[0,0,255,0,0,255],\n",
    "\"bg\":[255,255,255,255,255,255]\n",
    "}"
   ]
  },
  {
   "cell_type": "markdown",
   "metadata": {},
   "source": [
    "## Using square figures with auto_crop"
   ]
  },
  {
   "cell_type": "code",
   "execution_count": 33,
   "metadata": {},
   "outputs": [
    {
     "name": "stdout",
     "output_type": "stream",
     "text": [
      "process_one 0.5255060195922852\n"
     ]
    }
   ],
   "source": [
    "d,_ = symmetry.process_one(test,search_ratio,color_dict=test_palette_square,angle=0)"
   ]
  },
  {
   "cell_type": "code",
   "execution_count": 34,
   "metadata": {},
   "outputs": [
    {
     "data": {
      "text/html": [
       "<div>\n",
       "<style scoped>\n",
       "    .dataframe tbody tr th:only-of-type {\n",
       "        vertical-align: middle;\n",
       "    }\n",
       "\n",
       "    .dataframe tbody tr th {\n",
       "        vertical-align: top;\n",
       "    }\n",
       "\n",
       "    .dataframe thead th {\n",
       "        text-align: right;\n",
       "    }\n",
       "</style>\n",
       "<table border=\"1\" class=\"dataframe\">\n",
       "  <thead>\n",
       "    <tr style=\"text-align: right;\">\n",
       "      <th></th>\n",
       "      <th>angle</th>\n",
       "      <th>x_MSE</th>\n",
       "      <th>score_MSE</th>\n",
       "      <th>x_COR</th>\n",
       "      <th>score_COR</th>\n",
       "      <th>id</th>\n",
       "      <th>R</th>\n",
       "      <th>G</th>\n",
       "      <th>B</th>\n",
       "    </tr>\n",
       "  </thead>\n",
       "  <tbody>\n",
       "    <tr>\n",
       "      <th>0</th>\n",
       "      <td>0</td>\n",
       "      <td>151.0</td>\n",
       "      <td>0.0</td>\n",
       "      <td>151.0</td>\n",
       "      <td>0.0</td>\n",
       "      <td>square</td>\n",
       "      <td>0.0</td>\n",
       "      <td>0.0</td>\n",
       "      <td>1.0</td>\n",
       "    </tr>\n",
       "    <tr>\n",
       "      <th>1</th>\n",
       "      <td>0</td>\n",
       "      <td>266.0</td>\n",
       "      <td>0.0</td>\n",
       "      <td>266.0</td>\n",
       "      <td>0.0</td>\n",
       "      <td>rectangle</td>\n",
       "      <td>1.0</td>\n",
       "      <td>0.0</td>\n",
       "      <td>0.0</td>\n",
       "    </tr>\n",
       "    <tr>\n",
       "      <th>2</th>\n",
       "      <td>0</td>\n",
       "      <td>286.0</td>\n",
       "      <td>0.0</td>\n",
       "      <td>286.0</td>\n",
       "      <td>0.0</td>\n",
       "      <td>composition</td>\n",
       "      <td>1.0</td>\n",
       "      <td>1.0</td>\n",
       "      <td>1.0</td>\n",
       "    </tr>\n",
       "  </tbody>\n",
       "</table>\n",
       "</div>"
      ],
      "text/plain": [
       "   angle  x_MSE  score_MSE  x_COR  score_COR           id    R    G    B\n",
       "0      0  151.0        0.0  151.0        0.0       square  0.0  0.0  1.0\n",
       "1      0  266.0        0.0  266.0        0.0    rectangle  1.0  0.0  0.0\n",
       "2      0  286.0        0.0  286.0        0.0  composition  1.0  1.0  1.0"
      ]
     },
     "execution_count": 34,
     "metadata": {},
     "output_type": "execute_result"
    }
   ],
   "source": [
    "pd.DataFrame(d)"
   ]
  },
  {
   "cell_type": "code",
   "execution_count": 35,
   "metadata": {},
   "outputs": [
    {
     "name": "stdout",
     "output_type": "stream",
     "text": [
      "process_one 0.5531330108642578\n"
     ]
    }
   ],
   "source": [
    "d,_ = symmetry.process_one(test,search_ratio,color_dict=test_palette_square,angle=90)"
   ]
  },
  {
   "cell_type": "code",
   "execution_count": 36,
   "metadata": {},
   "outputs": [
    {
     "data": {
      "text/html": [
       "<div>\n",
       "<style scoped>\n",
       "    .dataframe tbody tr th:only-of-type {\n",
       "        vertical-align: middle;\n",
       "    }\n",
       "\n",
       "    .dataframe tbody tr th {\n",
       "        vertical-align: top;\n",
       "    }\n",
       "\n",
       "    .dataframe thead th {\n",
       "        text-align: right;\n",
       "    }\n",
       "</style>\n",
       "<table border=\"1\" class=\"dataframe\">\n",
       "  <thead>\n",
       "    <tr style=\"text-align: right;\">\n",
       "      <th></th>\n",
       "      <th>angle</th>\n",
       "      <th>x_MSE</th>\n",
       "      <th>score_MSE</th>\n",
       "      <th>x_COR</th>\n",
       "      <th>score_COR</th>\n",
       "      <th>id</th>\n",
       "      <th>R</th>\n",
       "      <th>G</th>\n",
       "      <th>B</th>\n",
       "    </tr>\n",
       "  </thead>\n",
       "  <tbody>\n",
       "    <tr>\n",
       "      <th>0</th>\n",
       "      <td>90</td>\n",
       "      <td>151.0</td>\n",
       "      <td>0.000000</td>\n",
       "      <td>151.0</td>\n",
       "      <td>0.000000</td>\n",
       "      <td>square</td>\n",
       "      <td>0.0</td>\n",
       "      <td>0.0</td>\n",
       "      <td>1.0</td>\n",
       "    </tr>\n",
       "    <tr>\n",
       "      <th>1</th>\n",
       "      <td>90</td>\n",
       "      <td>266.0</td>\n",
       "      <td>0.000000</td>\n",
       "      <td>266.0</td>\n",
       "      <td>0.000000</td>\n",
       "      <td>rectangle</td>\n",
       "      <td>1.0</td>\n",
       "      <td>0.0</td>\n",
       "      <td>0.0</td>\n",
       "    </tr>\n",
       "    <tr>\n",
       "      <th>2</th>\n",
       "      <td>90</td>\n",
       "      <td>286.0</td>\n",
       "      <td>0.000014</td>\n",
       "      <td>286.0</td>\n",
       "      <td>0.300836</td>\n",
       "      <td>composition</td>\n",
       "      <td>1.0</td>\n",
       "      <td>1.0</td>\n",
       "      <td>1.0</td>\n",
       "    </tr>\n",
       "  </tbody>\n",
       "</table>\n",
       "</div>"
      ],
      "text/plain": [
       "   angle  x_MSE  score_MSE  x_COR  score_COR           id    R    G    B\n",
       "0     90  151.0   0.000000  151.0   0.000000       square  0.0  0.0  1.0\n",
       "1     90  266.0   0.000000  266.0   0.000000    rectangle  1.0  0.0  0.0\n",
       "2     90  286.0   0.000014  286.0   0.300836  composition  1.0  1.0  1.0"
      ]
     },
     "execution_count": 36,
     "metadata": {},
     "output_type": "execute_result"
    }
   ],
   "source": [
    "pd.DataFrame(d)"
   ]
  },
  {
   "cell_type": "code",
   "execution_count": 37,
   "metadata": {},
   "outputs": [
    {
     "data": {
      "text/plain": [
       "<matplotlib.image.AxesImage at 0x13e8c59d0>"
      ]
     },
     "execution_count": 37,
     "metadata": {},
     "output_type": "execute_result"
    },
    {
     "data": {
      "image/png": "[encoded data removed]",
      "text/plain": [
       "<Figure size 720x720 with 1 Axes>"
      ]
     },
     "metadata": {
      "needs_background": "light"
     },
     "output_type": "display_data"
    }
   ],
   "source": [
    "circle = cvfunc.color_threshold(test,sample_low=[test_palette_square[\"rectangle\"][:3]],sample_high=[test_palette_square[\"rectangle\"][3:]])\n",
    "plt.imshow(cvfunc.auto_crop(circle))"
   ]
  },
  {
   "cell_type": "markdown",
   "metadata": {},
   "source": [
    "## Using square figures without auto_crop"
   ]
  },
  {
   "cell_type": "code",
   "execution_count": 38,
   "metadata": {},
   "outputs": [
    {
     "name": "stdout",
     "output_type": "stream",
     "text": [
      "process_one 0.7076940536499023\n"
     ]
    }
   ],
   "source": [
    "d,_ = symmetry.process_one(test,search_ratio,color_dict=test_palette_square,angle=0,auto_crop=False)"
   ]
  },
  {
   "cell_type": "code",
   "execution_count": 39,
   "metadata": {},
   "outputs": [
    {
     "data": {
      "text/html": [
       "<div>\n",
       "<style scoped>\n",
       "    .dataframe tbody tr th:only-of-type {\n",
       "        vertical-align: middle;\n",
       "    }\n",
       "\n",
       "    .dataframe tbody tr th {\n",
       "        vertical-align: top;\n",
       "    }\n",
       "\n",
       "    .dataframe thead th {\n",
       "        text-align: right;\n",
       "    }\n",
       "</style>\n",
       "<table border=\"1\" class=\"dataframe\">\n",
       "  <thead>\n",
       "    <tr style=\"text-align: right;\">\n",
       "      <th></th>\n",
       "      <th>angle</th>\n",
       "      <th>x_MSE</th>\n",
       "      <th>score_MSE</th>\n",
       "      <th>x_COR</th>\n",
       "      <th>score_COR</th>\n",
       "      <th>id</th>\n",
       "      <th>R</th>\n",
       "      <th>G</th>\n",
       "      <th>B</th>\n",
       "    </tr>\n",
       "  </thead>\n",
       "  <tbody>\n",
       "    <tr>\n",
       "      <th>0</th>\n",
       "      <td>0</td>\n",
       "      <td>286.0</td>\n",
       "      <td>0.0</td>\n",
       "      <td>286.0</td>\n",
       "      <td>0.0</td>\n",
       "      <td>square</td>\n",
       "      <td>0.0</td>\n",
       "      <td>0.0</td>\n",
       "      <td>1.0</td>\n",
       "    </tr>\n",
       "    <tr>\n",
       "      <th>1</th>\n",
       "      <td>0</td>\n",
       "      <td>286.0</td>\n",
       "      <td>0.0</td>\n",
       "      <td>286.0</td>\n",
       "      <td>0.0</td>\n",
       "      <td>rectangle</td>\n",
       "      <td>1.0</td>\n",
       "      <td>0.0</td>\n",
       "      <td>0.0</td>\n",
       "    </tr>\n",
       "    <tr>\n",
       "      <th>2</th>\n",
       "      <td>0</td>\n",
       "      <td>286.0</td>\n",
       "      <td>0.0</td>\n",
       "      <td>286.0</td>\n",
       "      <td>0.0</td>\n",
       "      <td>composition</td>\n",
       "      <td>1.0</td>\n",
       "      <td>1.0</td>\n",
       "      <td>1.0</td>\n",
       "    </tr>\n",
       "  </tbody>\n",
       "</table>\n",
       "</div>"
      ],
      "text/plain": [
       "   angle  x_MSE  score_MSE  x_COR  score_COR           id    R    G    B\n",
       "0      0  286.0        0.0  286.0        0.0       square  0.0  0.0  1.0\n",
       "1      0  286.0        0.0  286.0        0.0    rectangle  1.0  0.0  0.0\n",
       "2      0  286.0        0.0  286.0        0.0  composition  1.0  1.0  1.0"
      ]
     },
     "execution_count": 39,
     "metadata": {},
     "output_type": "execute_result"
    }
   ],
   "source": [
    "pd.DataFrame(d)"
   ]
  },
  {
   "cell_type": "code",
   "execution_count": 40,
   "metadata": {},
   "outputs": [
    {
     "name": "stdout",
     "output_type": "stream",
     "text": [
      "process_one 0.8436570167541504\n"
     ]
    }
   ],
   "source": [
    "d,_ = symmetry.process_one(test,search_ratio,color_dict=test_palette_square,angle=90,auto_crop=False)"
   ]
  },
  {
   "cell_type": "code",
   "execution_count": 41,
   "metadata": {},
   "outputs": [
    {
     "data": {
      "text/html": [
       "<div>\n",
       "<style scoped>\n",
       "    .dataframe tbody tr th:only-of-type {\n",
       "        vertical-align: middle;\n",
       "    }\n",
       "\n",
       "    .dataframe tbody tr th {\n",
       "        vertical-align: top;\n",
       "    }\n",
       "\n",
       "    .dataframe thead th {\n",
       "        text-align: right;\n",
       "    }\n",
       "</style>\n",
       "<table border=\"1\" class=\"dataframe\">\n",
       "  <thead>\n",
       "    <tr style=\"text-align: right;\">\n",
       "      <th></th>\n",
       "      <th>angle</th>\n",
       "      <th>x_MSE</th>\n",
       "      <th>score_MSE</th>\n",
       "      <th>x_COR</th>\n",
       "      <th>score_COR</th>\n",
       "      <th>id</th>\n",
       "      <th>R</th>\n",
       "      <th>G</th>\n",
       "      <th>B</th>\n",
       "    </tr>\n",
       "  </thead>\n",
       "  <tbody>\n",
       "    <tr>\n",
       "      <th>0</th>\n",
       "      <td>90</td>\n",
       "      <td>286.0</td>\n",
       "      <td>0.000000</td>\n",
       "      <td>286.0</td>\n",
       "      <td>0.000000</td>\n",
       "      <td>square</td>\n",
       "      <td>0.0</td>\n",
       "      <td>0.0</td>\n",
       "      <td>1.0</td>\n",
       "    </tr>\n",
       "    <tr>\n",
       "      <th>1</th>\n",
       "      <td>90</td>\n",
       "      <td>286.0</td>\n",
       "      <td>0.000047</td>\n",
       "      <td>286.0</td>\n",
       "      <td>1.000000</td>\n",
       "      <td>rectangle</td>\n",
       "      <td>1.0</td>\n",
       "      <td>0.0</td>\n",
       "      <td>0.0</td>\n",
       "    </tr>\n",
       "    <tr>\n",
       "      <th>2</th>\n",
       "      <td>90</td>\n",
       "      <td>286.0</td>\n",
       "      <td>0.000014</td>\n",
       "      <td>286.0</td>\n",
       "      <td>0.300836</td>\n",
       "      <td>composition</td>\n",
       "      <td>1.0</td>\n",
       "      <td>1.0</td>\n",
       "      <td>1.0</td>\n",
       "    </tr>\n",
       "  </tbody>\n",
       "</table>\n",
       "</div>"
      ],
      "text/plain": [
       "   angle  x_MSE  score_MSE  x_COR  score_COR           id    R    G    B\n",
       "0     90  286.0   0.000000  286.0   0.000000       square  0.0  0.0  1.0\n",
       "1     90  286.0   0.000047  286.0   1.000000    rectangle  1.0  0.0  0.0\n",
       "2     90  286.0   0.000014  286.0   0.300836  composition  1.0  1.0  1.0"
      ]
     },
     "execution_count": 41,
     "metadata": {},
     "output_type": "execute_result"
    }
   ],
   "source": [
    "pd.DataFrame(d)"
   ]
  },
  {
   "cell_type": "code",
   "execution_count": 42,
   "metadata": {},
   "outputs": [
    {
     "data": {
      "text/plain": [
       "<matplotlib.image.AxesImage at 0x13e928250>"
      ]
     },
     "execution_count": 42,
     "metadata": {},
     "output_type": "execute_result"
    },
    {
     "data": {
      "image/png": "[encoded data removed]",
      "text/plain": [
       "<Figure size 720x720 with 1 Axes>"
      ]
     },
     "metadata": {
      "needs_background": "light"
     },
     "output_type": "display_data"
    }
   ],
   "source": [
    "circle = cvfunc.color_threshold(test,sample_low=[test_palette_square[\"rectangle\"][:3]],sample_high=[test_palette_square[\"rectangle\"][3:]])\n",
    "plt.imshow(cvfunc.auto_crop(circle))"
   ]
  },
  {
   "cell_type": "markdown",
   "metadata": {},
   "source": [
    "## Using original"
   ]
  },
  {
   "cell_type": "code",
   "execution_count": 43,
   "metadata": {},
   "outputs": [
    {
     "data": {
      "text/plain": [
       "(600, 595, 3)"
      ]
     },
     "execution_count": 43,
     "metadata": {},
     "output_type": "execute_result"
    }
   ],
   "source": [
    "test_circ = scale.resize(test_circ,600)\n",
    "test_circ.shape"
   ]
  },
  {
   "cell_type": "code",
   "execution_count": 44,
   "metadata": {},
   "outputs": [
    {
     "name": "stdout",
     "output_type": "stream",
     "text": [
      "process_one 0.8362281322479248\n"
     ]
    }
   ],
   "source": [
    "d,_ = symmetry.process_one(test_circ,search_ratio,color_dict=test_palette,angle=0)"
   ]
  },
  {
   "cell_type": "code",
   "execution_count": 45,
   "metadata": {},
   "outputs": [
    {
     "data": {
      "text/html": [
       "<div>\n",
       "<style scoped>\n",
       "    .dataframe tbody tr th:only-of-type {\n",
       "        vertical-align: middle;\n",
       "    }\n",
       "\n",
       "    .dataframe tbody tr th {\n",
       "        vertical-align: top;\n",
       "    }\n",
       "\n",
       "    .dataframe thead th {\n",
       "        text-align: right;\n",
       "    }\n",
       "</style>\n",
       "<table border=\"1\" class=\"dataframe\">\n",
       "  <thead>\n",
       "    <tr style=\"text-align: right;\">\n",
       "      <th></th>\n",
       "      <th>angle</th>\n",
       "      <th>x_MSE</th>\n",
       "      <th>score_MSE</th>\n",
       "      <th>x_COR</th>\n",
       "      <th>score_COR</th>\n",
       "      <th>id</th>\n",
       "      <th>R</th>\n",
       "      <th>G</th>\n",
       "      <th>B</th>\n",
       "    </tr>\n",
       "  </thead>\n",
       "  <tbody>\n",
       "    <tr>\n",
       "      <th>0</th>\n",
       "      <td>0</td>\n",
       "      <td>132.0</td>\n",
       "      <td>4.932897e-09</td>\n",
       "      <td>132.0</td>\n",
       "      <td>0.000140</td>\n",
       "      <td>r0_circle</td>\n",
       "      <td>0.137255</td>\n",
       "      <td>0.227451</td>\n",
       "      <td>0.847059</td>\n",
       "    </tr>\n",
       "    <tr>\n",
       "      <th>1</th>\n",
       "      <td>0</td>\n",
       "      <td>153.0</td>\n",
       "      <td>7.078508e-10</td>\n",
       "      <td>153.0</td>\n",
       "      <td>0.000019</td>\n",
       "      <td>r1_square</td>\n",
       "      <td>0.333333</td>\n",
       "      <td>0.419608</td>\n",
       "      <td>0.917647</td>\n",
       "    </tr>\n",
       "    <tr>\n",
       "      <th>2</th>\n",
       "      <td>0</td>\n",
       "      <td>247.0</td>\n",
       "      <td>0.000000e+00</td>\n",
       "      <td>247.0</td>\n",
       "      <td>0.000000</td>\n",
       "      <td>r2_rectangle</td>\n",
       "      <td>0.560784</td>\n",
       "      <td>0.600000</td>\n",
       "      <td>0.937255</td>\n",
       "    </tr>\n",
       "    <tr>\n",
       "      <th>3</th>\n",
       "      <td>0</td>\n",
       "      <td>266.0</td>\n",
       "      <td>2.330861e-07</td>\n",
       "      <td>266.0</td>\n",
       "      <td>0.006190</td>\n",
       "      <td>composition</td>\n",
       "      <td>0.082353</td>\n",
       "      <td>0.156863</td>\n",
       "      <td>0.643137</td>\n",
       "    </tr>\n",
       "  </tbody>\n",
       "</table>\n",
       "</div>"
      ],
      "text/plain": [
       "   angle  x_MSE     score_MSE  x_COR  score_COR            id         R  \\\n",
       "0      0  132.0  4.932897e-09  132.0   0.000140     r0_circle  0.137255   \n",
       "1      0  153.0  7.078508e-10  153.0   0.000019     r1_square  0.333333   \n",
       "2      0  247.0  0.000000e+00  247.0   0.000000  r2_rectangle  0.560784   \n",
       "3      0  266.0  2.330861e-07  266.0   0.006190   composition  0.082353   \n",
       "\n",
       "          G         B  \n",
       "0  0.227451  0.847059  \n",
       "1  0.419608  0.917647  \n",
       "2  0.600000  0.937255  \n",
       "3  0.156863  0.643137  "
      ]
     },
     "execution_count": 45,
     "metadata": {},
     "output_type": "execute_result"
    }
   ],
   "source": [
    "pd.DataFrame(d)"
   ]
  },
  {
   "cell_type": "code",
   "execution_count": 46,
   "metadata": {},
   "outputs": [
    {
     "name": "stdout",
     "output_type": "stream",
     "text": [
      "process_one 0.9094269275665283\n"
     ]
    }
   ],
   "source": [
    "d,_ = symmetry.process_one(test_circ,search_ratio,color_dict=test_palette,angle=90)"
   ]
  },
  {
   "cell_type": "code",
   "execution_count": 47,
   "metadata": {},
   "outputs": [
    {
     "data": {
      "text/html": [
       "<div>\n",
       "<style scoped>\n",
       "    .dataframe tbody tr th:only-of-type {\n",
       "        vertical-align: middle;\n",
       "    }\n",
       "\n",
       "    .dataframe tbody tr th {\n",
       "        vertical-align: top;\n",
       "    }\n",
       "\n",
       "    .dataframe thead th {\n",
       "        text-align: right;\n",
       "    }\n",
       "</style>\n",
       "<table border=\"1\" class=\"dataframe\">\n",
       "  <thead>\n",
       "    <tr style=\"text-align: right;\">\n",
       "      <th></th>\n",
       "      <th>angle</th>\n",
       "      <th>x_MSE</th>\n",
       "      <th>score_MSE</th>\n",
       "      <th>x_COR</th>\n",
       "      <th>score_COR</th>\n",
       "      <th>id</th>\n",
       "      <th>R</th>\n",
       "      <th>G</th>\n",
       "      <th>B</th>\n",
       "    </tr>\n",
       "  </thead>\n",
       "  <tbody>\n",
       "    <tr>\n",
       "      <th>0</th>\n",
       "      <td>90</td>\n",
       "      <td>132.0</td>\n",
       "      <td>4.932897e-09</td>\n",
       "      <td>132.0</td>\n",
       "      <td>0.000140</td>\n",
       "      <td>r0_circle</td>\n",
       "      <td>0.137255</td>\n",
       "      <td>0.227451</td>\n",
       "      <td>0.847059</td>\n",
       "    </tr>\n",
       "    <tr>\n",
       "      <th>1</th>\n",
       "      <td>90</td>\n",
       "      <td>153.0</td>\n",
       "      <td>7.078508e-10</td>\n",
       "      <td>153.0</td>\n",
       "      <td>0.000019</td>\n",
       "      <td>r1_square</td>\n",
       "      <td>0.333333</td>\n",
       "      <td>0.419608</td>\n",
       "      <td>0.917647</td>\n",
       "    </tr>\n",
       "    <tr>\n",
       "      <th>2</th>\n",
       "      <td>90</td>\n",
       "      <td>247.0</td>\n",
       "      <td>0.000000e+00</td>\n",
       "      <td>247.0</td>\n",
       "      <td>0.000000</td>\n",
       "      <td>r2_rectangle</td>\n",
       "      <td>0.560784</td>\n",
       "      <td>0.600000</td>\n",
       "      <td>0.937255</td>\n",
       "    </tr>\n",
       "    <tr>\n",
       "      <th>3</th>\n",
       "      <td>90</td>\n",
       "      <td>266.0</td>\n",
       "      <td>1.321458e-05</td>\n",
       "      <td>266.0</td>\n",
       "      <td>0.289719</td>\n",
       "      <td>composition</td>\n",
       "      <td>0.082353</td>\n",
       "      <td>0.156863</td>\n",
       "      <td>0.643137</td>\n",
       "    </tr>\n",
       "  </tbody>\n",
       "</table>\n",
       "</div>"
      ],
      "text/plain": [
       "   angle  x_MSE     score_MSE  x_COR  score_COR            id         R  \\\n",
       "0     90  132.0  4.932897e-09  132.0   0.000140     r0_circle  0.137255   \n",
       "1     90  153.0  7.078508e-10  153.0   0.000019     r1_square  0.333333   \n",
       "2     90  247.0  0.000000e+00  247.0   0.000000  r2_rectangle  0.560784   \n",
       "3     90  266.0  1.321458e-05  266.0   0.289719   composition  0.082353   \n",
       "\n",
       "          G         B  \n",
       "0  0.227451  0.847059  \n",
       "1  0.419608  0.917647  \n",
       "2  0.600000  0.937255  \n",
       "3  0.156863  0.643137  "
      ]
     },
     "execution_count": 47,
     "metadata": {},
     "output_type": "execute_result"
    }
   ],
   "source": [
    "pd.DataFrame(d)"
   ]
  },
  {
   "cell_type": "code",
   "execution_count": 48,
   "metadata": {},
   "outputs": [
    {
     "data": {
      "text/plain": [
       "<matplotlib.image.AxesImage at 0x13e978b80>"
      ]
     },
     "execution_count": 48,
     "metadata": {},
     "output_type": "execute_result"
    },
    {
     "data": {
      "image/png": "[encoded data removed]",
      "text/plain": [
       "<Figure size 720x720 with 1 Axes>"
      ]
     },
     "metadata": {
      "needs_background": "light"
     },
     "output_type": "display_data"
    }
   ],
   "source": [
    "circle = cvfunc.color_threshold(test_circ,sample_low=[test_palette[\"r0_circle\"][:3]],sample_high=[test_palette[\"r0_circle\"][3:]])\n",
    "circle = cvfunc.auto_crop(circle)\n",
    "plt.imshow(circle)"
   ]
  },
  {
   "cell_type": "code",
   "execution_count": 49,
   "metadata": {},
   "outputs": [
    {
     "data": {
      "text/plain": [
       "<matplotlib.image.AxesImage at 0x13e9c8c10>"
      ]
     },
     "execution_count": 49,
     "metadata": {},
     "output_type": "execute_result"
    },
    {
     "data": {
      "image/png": "[encoded data removed]",
      "text/plain": [
       "<Figure size 720x720 with 1 Axes>"
      ]
     },
     "metadata": {
      "needs_background": "light"
     },
     "output_type": "display_data"
    }
   ],
   "source": [
    "plt.imshow(np.abs(circle-cv2.flip(circle,1)))"
   ]
  },
  {
   "cell_type": "code",
   "execution_count": 50,
   "metadata": {},
   "outputs": [
    {
     "data": {
      "text/plain": [
       "16.0"
      ]
     },
     "execution_count": 50,
     "metadata": {},
     "output_type": "execute_result"
    }
   ],
   "source": [
    "a = np.abs((circle-cv2.flip(circle,1))/255).sum()\n",
    "a"
   ]
  },
  {
   "cell_type": "code",
   "execution_count": 51,
   "metadata": {},
   "outputs": [
    {
     "data": {
      "text/plain": [
       "16.0"
      ]
     },
     "execution_count": 51,
     "metadata": {},
     "output_type": "execute_result"
    }
   ],
   "source": [
    "c = np.abs((circle.T-cv2.flip(circle.T,1))/255).sum()\n",
    "c"
   ]
  },
  {
   "cell_type": "code",
   "execution_count": 52,
   "metadata": {},
   "outputs": [
    {
     "data": {
      "text/plain": [
       "56952.0"
      ]
     },
     "execution_count": 52,
     "metadata": {},
     "output_type": "execute_result"
    }
   ],
   "source": [
    "b = (circle/255).sum()\n",
    "b"
   ]
  },
  {
   "cell_type": "code",
   "execution_count": 53,
   "metadata": {},
   "outputs": [
    {
     "data": {
      "text/plain": [
       "0.00028093833403567916"
      ]
     },
     "execution_count": 53,
     "metadata": {},
     "output_type": "execute_result"
    }
   ],
   "source": [
    "a/b"
   ]
  },
  {
   "cell_type": "code",
   "execution_count": 54,
   "metadata": {},
   "outputs": [
    {
     "data": {
      "text/plain": [
       "<matplotlib.image.AxesImage at 0x13ea25220>"
      ]
     },
     "execution_count": 54,
     "metadata": {},
     "output_type": "execute_result"
    },
    {
     "data": {
      "image/png": "[encoded data removed]",
      "text/plain": [
       "<Figure size 720x720 with 1 Axes>"
      ]
     },
     "metadata": {
      "needs_background": "light"
     },
     "output_type": "display_data"
    }
   ],
   "source": [
    "plt.imshow(np.abs(circle.T-cv2.flip(circle.T,1)))"
   ]
  },
  {
   "cell_type": "markdown",
   "metadata": {},
   "source": [
    "## Using JP"
   ]
  },
  {
   "cell_type": "code",
   "execution_count": 55,
   "metadata": {},
   "outputs": [
    {
     "name": "stdout",
     "output_type": "stream",
     "text": [
      "process_one 0.1394038200378418\n"
     ]
    }
   ],
   "source": [
    "d,_ = symmetry.process_one(test_japan,search_ratio,color_dict=test_palette_japan,angle=0)"
   ]
  },
  {
   "cell_type": "code",
   "execution_count": 56,
   "metadata": {},
   "outputs": [
    {
     "data": {
      "text/html": [
       "<div>\n",
       "<style scoped>\n",
       "    .dataframe tbody tr th:only-of-type {\n",
       "        vertical-align: middle;\n",
       "    }\n",
       "\n",
       "    .dataframe tbody tr th {\n",
       "        vertical-align: top;\n",
       "    }\n",
       "\n",
       "    .dataframe thead th {\n",
       "        text-align: right;\n",
       "    }\n",
       "</style>\n",
       "<table border=\"1\" class=\"dataframe\">\n",
       "  <thead>\n",
       "    <tr style=\"text-align: right;\">\n",
       "      <th></th>\n",
       "      <th>angle</th>\n",
       "      <th>x_MSE</th>\n",
       "      <th>score_MSE</th>\n",
       "      <th>x_COR</th>\n",
       "      <th>score_COR</th>\n",
       "      <th>id</th>\n",
       "      <th>R</th>\n",
       "      <th>G</th>\n",
       "      <th>B</th>\n",
       "    </tr>\n",
       "  </thead>\n",
       "  <tbody>\n",
       "    <tr>\n",
       "      <th>0</th>\n",
       "      <td>0</td>\n",
       "      <td>174.0</td>\n",
       "      <td>1.077122e-09</td>\n",
       "      <td>174.0</td>\n",
       "      <td>0.000057</td>\n",
       "      <td>circle</td>\n",
       "      <td>0.0</td>\n",
       "      <td>0.0</td>\n",
       "      <td>1.0</td>\n",
       "    </tr>\n",
       "    <tr>\n",
       "      <th>1</th>\n",
       "      <td>0</td>\n",
       "      <td>174.0</td>\n",
       "      <td>1.077122e-09</td>\n",
       "      <td>174.0</td>\n",
       "      <td>0.000057</td>\n",
       "      <td>composition</td>\n",
       "      <td>1.0</td>\n",
       "      <td>1.0</td>\n",
       "      <td>1.0</td>\n",
       "    </tr>\n",
       "  </tbody>\n",
       "</table>\n",
       "</div>"
      ],
      "text/plain": [
       "   angle  x_MSE     score_MSE  x_COR  score_COR           id    R    G    B\n",
       "0      0  174.0  1.077122e-09  174.0   0.000057       circle  0.0  0.0  1.0\n",
       "1      0  174.0  1.077122e-09  174.0   0.000057  composition  1.0  1.0  1.0"
      ]
     },
     "execution_count": 56,
     "metadata": {},
     "output_type": "execute_result"
    }
   ],
   "source": [
    "pd.DataFrame(d)"
   ]
  },
  {
   "cell_type": "code",
   "execution_count": 57,
   "metadata": {},
   "outputs": [
    {
     "name": "stdout",
     "output_type": "stream",
     "text": [
      "process_one 0.14816999435424805\n"
     ]
    }
   ],
   "source": [
    "d,_ = symmetry.process_one(test_japan,search_ratio,color_dict=test_palette_japan,angle=90)"
   ]
  },
  {
   "cell_type": "code",
   "execution_count": 58,
   "metadata": {},
   "outputs": [
    {
     "data": {
      "text/html": [
       "<div>\n",
       "<style scoped>\n",
       "    .dataframe tbody tr th:only-of-type {\n",
       "        vertical-align: middle;\n",
       "    }\n",
       "\n",
       "    .dataframe tbody tr th {\n",
       "        vertical-align: top;\n",
       "    }\n",
       "\n",
       "    .dataframe thead th {\n",
       "        text-align: right;\n",
       "    }\n",
       "</style>\n",
       "<table border=\"1\" class=\"dataframe\">\n",
       "  <thead>\n",
       "    <tr style=\"text-align: right;\">\n",
       "      <th></th>\n",
       "      <th>angle</th>\n",
       "      <th>x_MSE</th>\n",
       "      <th>score_MSE</th>\n",
       "      <th>x_COR</th>\n",
       "      <th>score_COR</th>\n",
       "      <th>id</th>\n",
       "      <th>R</th>\n",
       "      <th>G</th>\n",
       "      <th>B</th>\n",
       "    </tr>\n",
       "  </thead>\n",
       "  <tbody>\n",
       "    <tr>\n",
       "      <th>0</th>\n",
       "      <td>90</td>\n",
       "      <td>174.0</td>\n",
       "      <td>1.077122e-09</td>\n",
       "      <td>174.0</td>\n",
       "      <td>0.000057</td>\n",
       "      <td>circle</td>\n",
       "      <td>0.0</td>\n",
       "      <td>0.0</td>\n",
       "      <td>1.0</td>\n",
       "    </tr>\n",
       "    <tr>\n",
       "      <th>1</th>\n",
       "      <td>90</td>\n",
       "      <td>174.0</td>\n",
       "      <td>1.077122e-09</td>\n",
       "      <td>174.0</td>\n",
       "      <td>0.000057</td>\n",
       "      <td>composition</td>\n",
       "      <td>1.0</td>\n",
       "      <td>1.0</td>\n",
       "      <td>1.0</td>\n",
       "    </tr>\n",
       "  </tbody>\n",
       "</table>\n",
       "</div>"
      ],
      "text/plain": [
       "   angle  x_MSE     score_MSE  x_COR  score_COR           id    R    G    B\n",
       "0     90  174.0  1.077122e-09  174.0   0.000057       circle  0.0  0.0  1.0\n",
       "1     90  174.0  1.077122e-09  174.0   0.000057  composition  1.0  1.0  1.0"
      ]
     },
     "execution_count": 58,
     "metadata": {},
     "output_type": "execute_result"
    }
   ],
   "source": [
    "pd.DataFrame(d)"
   ]
  },
  {
   "cell_type": "code",
   "execution_count": 59,
   "metadata": {},
   "outputs": [
    {
     "data": {
      "text/plain": [
       "<matplotlib.image.AxesImage at 0x13ea71fa0>"
      ]
     },
     "execution_count": 59,
     "metadata": {},
     "output_type": "execute_result"
    },
    {
     "data": {
      "image/png": "[encoded data removed]",
      "text/plain": [
       "<Figure size 720x720 with 1 Axes>"
      ]
     },
     "metadata": {
      "needs_background": "light"
     },
     "output_type": "display_data"
    }
   ],
   "source": [
    "circle = cvfunc.color_threshold(test_japan,sample_low=[test_palette_japan[\"circle\"][:3]],sample_high=[test_palette_japan[\"circle\"][3:]])\n",
    "circle = cvfunc.auto_crop(circle)\n",
    "plt.imshow(circle)"
   ]
  },
  {
   "cell_type": "code",
   "execution_count": null,
   "metadata": {},
   "outputs": [],
   "source": []
  }
 ],
 "metadata": {
  "kernelspec": {
   "display_name": "Python 3",
   "language": "python",
   "name": "python3"
  },
  "language_info": {
   "codemirror_mode": {
    "name": "ipython",
    "version": 3
   },
   "file_extension": ".py",
   "mimetype": "text/x-python",
   "name": "python",
   "nbconvert_exporter": "python",
   "pygments_lexer": "ipython3",
   "version": "3.8.9"
  }
 },
 "nbformat": 4,
 "nbformat_minor": 4
}
