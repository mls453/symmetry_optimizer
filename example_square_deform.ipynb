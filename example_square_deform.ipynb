{
 "cells": [
  {
   "cell_type": "code",
   "execution_count": 141,
   "id": "a2cd0272-0c28-4f81-9263-530a26786967",
   "metadata": {},
   "outputs": [],
   "source": [
    "import cv2\n",
    "import numpy as np\n",
    "import matplotlib.pyplot as plt\n",
    "from cvfunc import color_threshold, auto_crop, get_bounding_box, get_colors"
   ]
  },
  {
   "cell_type": "code",
   "execution_count": 142,
   "id": "ee6ebd2d-1a54-4960-8698-25d3a5689d55",
   "metadata": {},
   "outputs": [],
   "source": [
    "img = cv2.imread('shrink/East_day105_16Apr2013_S.png')"
   ]
  },
  {
   "cell_type": "code",
   "execution_count": 143,
   "id": "957644a8-c92e-4dd4-95f7-9774cc71dc2f",
   "metadata": {},
   "outputs": [],
   "source": [
    "img_mask = color_threshold(img,[[255,255,255]],[[255,255,255]],invert=True)"
   ]
  },
  {
   "cell_type": "code",
   "execution_count": 144,
   "id": "1e02c2e1-5f48-4c99-87d2-a7e4125bc0a5",
   "metadata": {},
   "outputs": [],
   "source": [
    "colors = get_colors(img)[0][1:-1].tolist()"
   ]
  },
  {
   "cell_type": "code",
   "execution_count": 145,
   "id": "bccdde25-8cbe-4aca-a6c2-d1f1de5854be",
   "metadata": {},
   "outputs": [
    {
     "data": {
      "text/plain": [
       "[[34, 101, 242],\n",
       " [92, 92, 92],\n",
       " [164, 211, 179],\n",
       " [195, 251, 211],\n",
       " [197, 255, 216],\n",
       " [240, 174, 0]]"
      ]
     },
     "execution_count": 145,
     "metadata": {},
     "output_type": "execute_result"
    }
   ],
   "source": [
    "colors"
   ]
  },
  {
   "cell_type": "code",
   "execution_count": 146,
   "id": "2e5184ed-cd27-4ccd-b223-35e9d828b5c8",
   "metadata": {},
   "outputs": [],
   "source": [
    "img = cv2.bitwise_and(img,img,mask=img_mask.astype(np.uint8))"
   ]
  },
  {
   "cell_type": "code",
   "execution_count": 147,
   "id": "459bbfed-4da0-4004-8b78-dae3f382644d",
   "metadata": {},
   "outputs": [],
   "source": [
    "height,width,channels = img.shape"
   ]
  },
  {
   "cell_type": "code",
   "execution_count": 148,
   "id": "07b64e1f-0df2-4791-912e-dbb5cf56871e",
   "metadata": {},
   "outputs": [
    {
     "data": {
      "text/plain": [
       "<matplotlib.image.AxesImage at 0x7f88dab4a3d0>"
      ]
     },
     "execution_count": 148,
     "metadata": {},
     "output_type": "execute_result"
    },
    {
     "data": {
      "image/png": "[encoded data removed]",
      "text/plain": [
       "<Figure size 432x288 with 1 Axes>"
      ]
     },
     "metadata": {
      "needs_background": "light"
     },
     "output_type": "display_data"
    }
   ],
   "source": [
    "plt.imshow(img)"
   ]
  },
  {
   "cell_type": "code",
   "execution_count": 149,
   "id": "09a67ed5-16c7-4cc2-bdbd-74f47668a201",
   "metadata": {},
   "outputs": [],
   "source": [
    "height,width,channels = img.shape"
   ]
  },
  {
   "cell_type": "code",
   "execution_count": 150,
   "id": "0d13be51-f138-4a53-a7fa-ba2c840878e4",
   "metadata": {},
   "outputs": [
    {
     "data": {
      "text/plain": [
       "<matplotlib.image.AxesImage at 0x7f88db0c8400>"
      ]
     },
     "execution_count": 150,
     "metadata": {},
     "output_type": "execute_result"
    },
    {
     "data": {
      "image/png": "[encoded data removed]",
      "text/plain": [
       "<Figure size 432x288 with 1 Axes>"
      ]
     },
     "metadata": {
      "needs_background": "light"
     },
     "output_type": "display_data"
    }
   ],
   "source": [
    "plt.imshow(img_mask)"
   ]
  },
  {
   "cell_type": "code",
   "execution_count": 151,
   "id": "5d643527-69ae-4004-98b2-cb4f164ebab6",
   "metadata": {},
   "outputs": [],
   "source": [
    "color_layers = [cv2.bitwise_and(img,img,mask=color_threshold(img,[color],[color]).astype(np.uint8)) for color in colors]"
   ]
  },
  {
   "cell_type": "code",
   "execution_count": 152,
   "id": "f71e7597-0a91-496c-9649-4c383538f49e",
   "metadata": {},
   "outputs": [
    {
     "data": {
      "text/plain": [
       "<matplotlib.image.AxesImage at 0x7f88dab68100>"
      ]
     },
     "execution_count": 152,
     "metadata": {},
     "output_type": "execute_result"
    },
    {
     "data": {
      "image/png": "[encoded data removed]",
      "text/plain": [
       "<Figure size 432x288 with 1 Axes>"
      ]
     },
     "metadata": {
      "needs_background": "light"
     },
     "output_type": "display_data"
    }
   ],
   "source": [
    "plt.imshow(color_layers[-1])"
   ]
  },
  {
   "cell_type": "code",
   "execution_count": 153,
   "id": "3b12044b-bcf9-4cb4-9cb9-9071f714d00c",
   "metadata": {},
   "outputs": [],
   "source": [
    "_,_,H,L = get_bounding_box(img_mask)"
   ]
  },
  {
   "cell_type": "code",
   "execution_count": 154,
   "id": "a414c112-f031-40f6-8e23-0544482a6549",
   "metadata": {},
   "outputs": [],
   "source": [
    "def nonzero(n): return img_mask[n,:].nonzero()[0]"
   ]
  },
  {
   "cell_type": "code",
   "execution_count": 155,
   "id": "1c9f1ef2-9777-4ba6-af32-7579bd7fc55b",
   "metadata": {},
   "outputs": [],
   "source": [
    "def x_left(n): return nonzero(n).min()"
   ]
  },
  {
   "cell_type": "code",
   "execution_count": 156,
   "id": "f5abc501-de8c-4903-963e-f16940a8d453",
   "metadata": {},
   "outputs": [],
   "source": [
    "def Dx(n): return nonzero(n).max()-nonzero(n).min()"
   ]
  },
  {
   "cell_type": "code",
   "execution_count": 157,
   "id": "3dd35221-97e0-415b-9ae6-d0692efd0e70",
   "metadata": {},
   "outputs": [],
   "source": [
    "def F(n):\n",
    "    return np.array([\n",
    "        [L/Dx(n),0,-L*x_left(n)/Dx(n)],\n",
    "        [0,1,0]\n",
    "    ])"
   ]
  },
  {
   "cell_type": "code",
   "execution_count": 158,
   "id": "5c9e4188-9bb6-4552-a7d7-7a37d42df9cf",
   "metadata": {},
   "outputs": [],
   "source": [
    "def F_inverse(n):\n",
    "    return np.array([\n",
    "        [Dx(n)/L,0,x_left(n)],\n",
    "        [0,1,0]\n",
    "    ])"
   ]
  },
  {
   "cell_type": "code",
   "execution_count": 159,
   "id": "7352b3e5-9747-4a7d-b0d8-5bed2ad0e6c6",
   "metadata": {},
   "outputs": [],
   "source": [
    "def mask_partition(Img,mask,n):\n",
    "    S = np.zeros_like(mask)\n",
    "    S[n,:] = 1\n",
    "    Slice = (mask*S).copy()\n",
    "    return cv2.bitwise_and(Img,Img,mask=Slice.astype(np.uint8))"
   ]
  },
  {
   "cell_type": "code",
   "execution_count": 160,
   "id": "0fa81249-1980-477f-953c-cc2328f1d872",
   "metadata": {},
   "outputs": [],
   "source": [
    "layers = [[mask_partition(Img,img_mask,n) for n in range(H+1)] for Img in color_layers]"
   ]
  },
  {
   "cell_type": "code",
   "execution_count": 161,
   "id": "ba34a9f1-f1c7-4e4c-b880-b351ad1cf5bb",
   "metadata": {},
   "outputs": [],
   "source": [
    "F_layers = [[cv2.warpAffine(_slice,F(n),(_slice.shape[1],_slice.shape[0])) for n,_slice in enumerate(layer)] for layer in layers]"
   ]
  },
  {
   "cell_type": "code",
   "execution_count": 164,
   "id": "adaf2bfa-ffda-46d1-a954-3680ebf273c9",
   "metadata": {},
   "outputs": [],
   "source": [
    "def merge_slices(slice_list):\n",
    "    img_total = np.zeros_like(img,dtype=np.uint8)\n",
    "    for _slice in slice_list:\n",
    "        mask = color_threshold(_slice,[[0,0,0]],[[0,0,0]],invert=False)\n",
    "        img_total = cv2.bitwise_and(img_total,img_total,mask=mask.astype(np.uint8))\n",
    "        img_total = cv2.max(img_total,_slice)\n",
    "        #img_total = cv2.max(img_total,_slice)\n",
    "    return img_total"
   ]
  },
  {
   "cell_type": "code",
   "execution_count": 165,
   "id": "84e04506-3726-4633-be5d-4aad25c47ae1",
   "metadata": {},
   "outputs": [],
   "source": [
    "F_color_layers = [merge_slices(layer) for layer in F_layers]"
   ]
  },
  {
   "cell_type": "code",
   "execution_count": 166,
   "id": "e6f8ff75-0429-4dca-8074-28b5a0b8c392",
   "metadata": {},
   "outputs": [
    {
     "data": {
      "text/plain": [
       "<matplotlib.image.AxesImage at 0x7f88da90abb0>"
      ]
     },
     "execution_count": 166,
     "metadata": {},
     "output_type": "execute_result"
    },
    {
     "data": {
      "image/png": "[encoded data removed]",
      "text/plain": [
       "<Figure size 432x288 with 1 Axes>"
      ]
     },
     "metadata": {
      "needs_background": "light"
     },
     "output_type": "display_data"
    }
   ],
   "source": [
    "plt.imshow(merge_slices(F_color_layers))"
   ]
  },
  {
   "cell_type": "code",
   "execution_count": 167,
   "id": "d4980ca7-6c34-4976-b401-189ebca8a570",
   "metadata": {},
   "outputs": [
    {
     "data": {
      "text/plain": [
       "<matplotlib.image.AxesImage at 0x7f88d05a6ac0>"
      ]
     },
     "execution_count": 167,
     "metadata": {},
     "output_type": "execute_result"
    },
    {
     "data": {
      "image/png": "[encoded data removed]",
      "text/plain": [
       "<Figure size 432x288 with 1 Axes>"
      ]
     },
     "metadata": {
      "needs_background": "light"
     },
     "output_type": "display_data"
    }
   ],
   "source": [
    "plt.imshow(F_color_layers[-1])"
   ]
  },
  {
   "cell_type": "code",
   "execution_count": 168,
   "id": "e0e18670-6768-4bfa-81ea-9e451c2d885d",
   "metadata": {},
   "outputs": [
    {
     "data": {
      "text/plain": [
       "<matplotlib.image.AxesImage at 0x7f88d050ad00>"
      ]
     },
     "execution_count": 168,
     "metadata": {},
     "output_type": "execute_result"
    },
    {
     "data": {
      "image/png": "[encoded data removed]",
      "text/plain": [
       "<Figure size 432x288 with 1 Axes>"
      ]
     },
     "metadata": {
      "needs_background": "light"
     },
     "output_type": "display_data"
    }
   ],
   "source": [
    "#Moving last color to the left\n",
    "F_color_layers[-1] = np.roll(F_color_layers[-1],-10,1)\n",
    "plt.imshow(F_color_layers[-1])"
   ]
  },
  {
   "cell_type": "code",
   "execution_count": 169,
   "id": "336792ef-017e-443f-ac51-0cd2f2e79fe2",
   "metadata": {},
   "outputs": [],
   "source": [
    "F_img = merge_slices(F_color_layers)"
   ]
  },
  {
   "cell_type": "code",
   "execution_count": 170,
   "id": "283e06ce-6b38-490d-9cbf-400c84e4a7b8",
   "metadata": {},
   "outputs": [
    {
     "data": {
      "text/plain": [
       "<matplotlib.image.AxesImage at 0x7f88d04eec70>"
      ]
     },
     "execution_count": 170,
     "metadata": {},
     "output_type": "execute_result"
    },
    {
     "data": {
      "image/png": "[encoded data removed]",
      "text/plain": [
       "<Figure size 432x288 with 1 Axes>"
      ]
     },
     "metadata": {
      "needs_background": "light"
     },
     "output_type": "display_data"
    }
   ],
   "source": [
    "plt.imshow(F_img)"
   ]
  },
  {
   "cell_type": "code",
   "execution_count": 171,
   "id": "b2809302-a021-40aa-b498-85cb112f90bb",
   "metadata": {},
   "outputs": [],
   "source": [
    "inverse_img_mask = color_threshold(F_img,[[255,255,255]],[[255,255,255]],invert=True)"
   ]
  },
  {
   "cell_type": "code",
   "execution_count": 172,
   "id": "ed0aec52-9939-441c-9959-bfd96152ab68",
   "metadata": {},
   "outputs": [],
   "source": [
    "inverse_layers = [[mask_partition(Img,inverse_img_mask,n) for n in range(H+1)] for Img in F_color_layers]"
   ]
  },
  {
   "cell_type": "code",
   "execution_count": 173,
   "id": "0272d977-2a14-42d5-8bcc-52e0a4887826",
   "metadata": {},
   "outputs": [],
   "source": [
    "F_inverse_layers = [[cv2.warpAffine(_slice,F_inverse(n),(_slice.shape[1],_slice.shape[0])) for n,_slice in enumerate(layer)] for layer in inverse_layers]"
   ]
  },
  {
   "cell_type": "code",
   "execution_count": 174,
   "id": "1cac3fb8-ac94-4e6b-ad45-5eb66a704120",
   "metadata": {},
   "outputs": [],
   "source": [
    "F_inverse_color_layers = [merge_slices(layer) for layer in F_inverse_layers]"
   ]
  },
  {
   "cell_type": "code",
   "execution_count": 175,
   "id": "84c7d2cb-3fb0-4277-8027-9c0bcdef5732",
   "metadata": {},
   "outputs": [
    {
     "data": {
      "text/plain": [
       "<matplotlib.image.AxesImage at 0x7f88d04602e0>"
      ]
     },
     "execution_count": 175,
     "metadata": {},
     "output_type": "execute_result"
    },
    {
     "data": {
      "image/png": "[encoded data removed]",
      "text/plain": [
       "<Figure size 432x288 with 1 Axes>"
      ]
     },
     "metadata": {
      "needs_background": "light"
     },
     "output_type": "display_data"
    }
   ],
   "source": [
    "plt.imshow(merge_slices(F_inverse_color_layers))"
   ]
  },
  {
   "cell_type": "code",
   "execution_count": null,
   "id": "dc5f09ee-0a61-4f02-8ae2-1a8faba0e5f6",
   "metadata": {},
   "outputs": [],
   "source": []
  }
 ],
 "metadata": {
  "kernelspec": {
   "display_name": "Python 3",
   "language": "python",
   "name": "python3"
  },
  "language_info": {
   "codemirror_mode": {
    "name": "ipython",
    "version": 3
   },
   "file_extension": ".py",
   "mimetype": "text/x-python",
   "name": "python",
   "nbconvert_exporter": "python",
   "pygments_lexer": "ipython3",
   "version": "3.9.7"
  }
 },
 "nbformat": 4,
 "nbformat_minor": 5
}
