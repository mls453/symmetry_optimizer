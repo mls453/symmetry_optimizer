{
 "cells": [
  {
   "cell_type": "code",
   "execution_count": 84,
   "id": "a2cd0272-0c28-4f81-9263-530a26786967",
   "metadata": {},
   "outputs": [],
   "source": [
    "import cv2\n",
    "import numpy as np\n",
    "import matplotlib.pyplot as plt\n",
    "from cvfunc import color_threshold,auto_crop"
   ]
  },
  {
   "cell_type": "code",
   "execution_count": 85,
   "id": "ee6ebd2d-1a54-4960-8698-25d3a5689d55",
   "metadata": {},
   "outputs": [],
   "source": [
    "img = cv2.imread('shrink/East_day105_16Apr2013_S.png')"
   ]
  },
  {
   "cell_type": "code",
   "execution_count": 86,
   "id": "957644a8-c92e-4dd4-95f7-9774cc71dc2f",
   "metadata": {},
   "outputs": [],
   "source": [
    "img_mask = color_threshold(img,[[255,255,255]],[[255,255,255]],invert=True)"
   ]
  },
  {
   "cell_type": "code",
   "execution_count": 87,
   "id": "2e5184ed-cd27-4ccd-b223-35e9d828b5c8",
   "metadata": {},
   "outputs": [],
   "source": [
    "img = cv2.bitwise_and(img,img,mask=img_mask.astype(np.uint8))"
   ]
  },
  {
   "cell_type": "code",
   "execution_count": 88,
   "id": "459bbfed-4da0-4004-8b78-dae3f382644d",
   "metadata": {},
   "outputs": [],
   "source": [
    "height,width,channels = img.shape"
   ]
  },
  {
   "cell_type": "code",
   "execution_count": 89,
   "id": "676d36fe-b590-4ba9-bc77-72c2763d76ec",
   "metadata": {
    "tags": []
   },
   "outputs": [],
   "source": [
    "img_heightened = np.zeros((int(height*1.5),width,channels))"
   ]
  },
  {
   "cell_type": "code",
   "execution_count": 90,
   "id": "ba37087a-42b0-48d4-8aa0-b1329fdb5b1a",
   "metadata": {},
   "outputs": [],
   "source": [
    "img_heightened[int(height/4):int(5*height/4),:,:] = img"
   ]
  },
  {
   "cell_type": "code",
   "execution_count": 91,
   "id": "332cca13-8a81-4041-838a-3dc7ebeb53de",
   "metadata": {},
   "outputs": [],
   "source": [
    "img_heightened = img_heightened.astype(np.uint8)"
   ]
  },
  {
   "cell_type": "code",
   "execution_count": 92,
   "id": "3e7eceb3-a788-4db7-b171-f0ab140d3d1f",
   "metadata": {},
   "outputs": [],
   "source": [
    "img = img_heightened"
   ]
  },
  {
   "cell_type": "code",
   "execution_count": 93,
   "id": "07b64e1f-0df2-4791-912e-dbb5cf56871e",
   "metadata": {},
   "outputs": [
    {
     "data": {
      "text/plain": [
       "<matplotlib.image.AxesImage at 0x7f58d55a3160>"
      ]
     },
     "execution_count": 93,
     "metadata": {},
     "output_type": "execute_result"
    },
    {
     "data": {
      "image/png": "[encoded data removed]",
      "text/plain": [
       "<Figure size 432x288 with 1 Axes>"
      ]
     },
     "metadata": {
      "needs_background": "light"
     },
     "output_type": "display_data"
    }
   ],
   "source": [
    "plt.imshow(img)"
   ]
  },
  {
   "cell_type": "code",
   "execution_count": 94,
   "id": "09a67ed5-16c7-4cc2-bdbd-74f47668a201",
   "metadata": {},
   "outputs": [],
   "source": [
    "height,width,channels = img.shape"
   ]
  },
  {
   "cell_type": "code",
   "execution_count": 111,
   "id": "3b12044b-bcf9-4cb4-9cb9-9071f714d00c",
   "metadata": {},
   "outputs": [],
   "source": [
    "N = 10 #Number of partitions\n",
    "Alpha = 0.8 #Deformation constant"
   ]
  },
  {
   "cell_type": "code",
   "execution_count": 112,
   "id": "7ac6fb69-5dbd-4562-aba8-64f12c1b7102",
   "metadata": {},
   "outputs": [],
   "source": [
    "Dx = img.shape[1]/(N+1)"
   ]
  },
  {
   "cell_type": "code",
   "execution_count": 113,
   "id": "c16a8849-9efb-4c19-9dc1-dde4b575c49f",
   "metadata": {},
   "outputs": [
    {
     "data": {
      "text/plain": [
       "3.8181818181818183"
      ]
     },
     "execution_count": 113,
     "metadata": {},
     "output_type": "execute_result"
    }
   ],
   "source": [
    "Dx"
   ]
  },
  {
   "cell_type": "code",
   "execution_count": 114,
   "id": "7f391bea-ecc5-46d1-a515-c3a3fa773186",
   "metadata": {},
   "outputs": [],
   "source": [
    "def alpha(n): return Alpha*n/N"
   ]
  },
  {
   "cell_type": "code",
   "execution_count": 115,
   "id": "acda16e5-ab3e-4ad6-9f3a-5a6e95d73091",
   "metadata": {},
   "outputs": [],
   "source": [
    "def S(dx,n): return (dx/2)*alpha(n)/(1+alpha(n)) + dx*sum([alpha(j)/(1+alpha(j)) for j in range(n+1,N+1)])"
   ]
  },
  {
   "cell_type": "code",
   "execution_count": 116,
   "id": "9118fb67-4dc5-4705-bc43-ab6b8b836925",
   "metadata": {},
   "outputs": [],
   "source": [
    "def P(n): return (Dx*(n+1/2),height/2)"
   ]
  },
  {
   "cell_type": "code",
   "execution_count": 117,
   "id": "3dd35221-97e0-415b-9ae6-d0692efd0e70",
   "metadata": {},
   "outputs": [],
   "source": [
    "def F(n):\n",
    "    return np.array([\n",
    "        [1/(1+alpha(n)),0,S(Dx,n)+P(n)[0]*alpha(n)/(1+alpha(n))],\n",
    "        [0,(1+alpha(n)),-alpha(n)*P(n)[1]]\n",
    "    ])"
   ]
  },
  {
   "cell_type": "code",
   "execution_count": 118,
   "id": "818c32df-7e61-43aa-b522-f1ee26dad4db",
   "metadata": {},
   "outputs": [
    {
     "data": {
      "text/plain": [
       "array([[  0.71428571,   0.        ,  13.93971369],\n",
       "       [  0.        ,   1.4       , -13.8       ]])"
      ]
     },
     "execution_count": 118,
     "metadata": {},
     "output_type": "execute_result"
    }
   ],
   "source": [
    "F(5)"
   ]
  },
  {
   "cell_type": "code",
   "execution_count": 119,
   "id": "3fe09d78-d40c-4d2d-bc4d-e36c28b32968",
   "metadata": {},
   "outputs": [],
   "source": [
    "def partition(n): return np.array([[[Dx*n,0],[Dx*(n+1),0],[Dx*(n+1),height],[Dx*n,height]]],dtype=np.int32)"
   ]
  },
  {
   "cell_type": "code",
   "execution_count": 120,
   "id": "7352b3e5-9747-4a7d-b0d8-5bed2ad0e6c6",
   "metadata": {},
   "outputs": [],
   "source": [
    "def mask_partition(Img,n):\n",
    "    img_mask = Img.copy()\n",
    "    cv2.fillConvexPoly(img_mask,partition(n),(0,0,0))\n",
    "    return (Img-img_mask).copy()"
   ]
  },
  {
   "cell_type": "code",
   "execution_count": 121,
   "id": "0fa81249-1980-477f-953c-cc2328f1d872",
   "metadata": {},
   "outputs": [],
   "source": [
    "layers = [mask_partition(img,n) for n in range(N+1)]"
   ]
  },
  {
   "cell_type": "code",
   "execution_count": 122,
   "id": "ba34a9f1-f1c7-4e4c-b880-b351ad1cf5bb",
   "metadata": {},
   "outputs": [],
   "source": [
    "F_layers = [cv2.warpAffine(layer,F(n),(layer.shape[1],layer.shape[0])) for n,layer in enumerate(layers)]"
   ]
  },
  {
   "cell_type": "code",
   "execution_count": 123,
   "id": "84e04506-3726-4633-be5d-4aad25c47ae1",
   "metadata": {},
   "outputs": [],
   "source": [
    "img_melted = np.zeros_like(img,dtype=np.uint8)\n",
    "for F_layer in F_layers:\n",
    "    img_melted = cv2.max(img_melted,F_layer)"
   ]
  },
  {
   "cell_type": "code",
   "execution_count": 124,
   "id": "d4980ca7-6c34-4976-b401-189ebca8a570",
   "metadata": {},
   "outputs": [
    {
     "data": {
      "text/plain": [
       "<matplotlib.image.AxesImage at 0x7f58d45fc9d0>"
      ]
     },
     "execution_count": 124,
     "metadata": {},
     "output_type": "execute_result"
    },
    {
     "data": {
      "image/png": "[encoded data removed]",
      "text/plain": [
       "<Figure size 432x288 with 1 Axes>"
      ]
     },
     "metadata": {
      "needs_background": "light"
     },
     "output_type": "display_data"
    }
   ],
   "source": [
    "plt.imshow(img_melted)"
   ]
  }
 ],
 "metadata": {
  "kernelspec": {
   "display_name": "Python 3",
   "language": "python",
   "name": "python3"
  },
  "language_info": {
   "codemirror_mode": {
    "name": "ipython",
    "version": 3
   },
   "file_extension": ".py",
   "mimetype": "text/x-python",
   "name": "python",
   "nbconvert_exporter": "python",
   "pygments_lexer": "ipython3",
   "version": "3.9.7"
  }
 },
 "nbformat": 4,
 "nbformat_minor": 5
}
