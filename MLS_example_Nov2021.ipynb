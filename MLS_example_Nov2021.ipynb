{
 "cells": [
  {
   "cell_type": "code",
   "execution_count": 3,
   "metadata": {},
   "outputs": [
    {
     "name": "stdout",
     "output_type": "stream",
     "text": [
      "The autoreload extension is already loaded. To reload it, use:\n",
      "  %reload_ext autoreload\n"
     ]
    }
   ],
   "source": [
    "%load_ext autoreload\n",
    "%autoreload 2"
   ]
  },
  {
   "cell_type": "code",
   "execution_count": 4,
   "metadata": {},
   "outputs": [],
   "source": [
    "# Import all functions\n",
    "\n",
    "import cv2\n",
    "from tqdm import tqdm\n",
    "import pandas as pd\n",
    "import glob\n",
    "import os\n",
    "import numpy as np\n",
    "import matplotlib.pyplot as plt\n",
    "import json\n",
    "from multiprocessing import Pool\n",
    "from time import time\n",
    "from functools import partial\n",
    "plt.rcParams['figure.figsize'] = [10, 10]\n",
    "import datetime\n",
    "\n",
    "import sys\n",
    "import cvfunc\n",
    "import scale\n",
    "import symmetry\n",
    "\n",
    "from cvfunc import color_threshold,auto_crop,auto_crop_color,symmetric_shift\n"
   ]
  },
  {
   "cell_type": "code",
<<<<<<< Updated upstream
   "execution_count": 5,
=======
   "execution_count": 3,
>>>>>>> Stashed changes
   "metadata": {},
   "outputs": [],
   "source": [
    "#\n",
    "# The Color Palette to use:\n",
    "#\n",
    "\n",
    "# BGR and repeated: [B,G,R,B,G,R] \n",
    "# Added/subtracted an adjustment, to give color values a range, i.e. [B-2,G-2,R-2,B+2,G+2,R+2]\n",
    "\n",
    "adj=10 # had to make this larger, because there's color \"noise\" in the shrinked images\n",
    "\n",
    "# want to be able to give a RANGE of color values, but can't go under 0, or above 255. Use inbetween function:\n",
    "def lim(minv, val, maxv):\n",
    "    return min(maxv, max(minv, val))\n",
    "\n",
    "# The color palette from 2021: USE THIS ONE\n",
    "# NOTE: BGR values from color picker is not necesarily accurate, \n",
    "# so make sure to pick out the colors using the \"color_lab\" (or below)\n",
    "# uncertain about DC colors for capped honey, nectar, pollen (put the ?)\n",
    "\n",
    "color_palette = {\n",
    "\"bg\":[255,255,255,255,255,255],\n",
    "\"uncapped_brood\":[lim(0, 240-adj, 255), lim(0, 174-adj, 255), lim(0, 0-adj, 255), \n",
    "                  lim(0, 240+adj, 255), lim(0, 174+adj, 255), lim(0, 0+adj, 255)],\n",
    "\"uncapped_brood_d\":[lim(0, 145-adj, 255), lim(0, 105-adj, 255), lim(0, 1-adj, 255), \n",
    "                    lim(0, 145+adj, 255), lim(0, 105+adj, 255), lim(0, 1+adj, 255)],\n",
    "\"capped_brood\":[lim(0, 255-adj, 255), lim(0, 0-adj, 255), lim(0, 0-adj, 255), \n",
    "                lim(0, 255+adj, 255), lim(0, 0+adj, 255), lim(0, 0+adj, 255)],\n",
    "\"capped_brood_d\":[lim(0, 136-adj, 255), lim(0, 0-adj, 255), lim(0, 0-adj, 255), \n",
    "                  lim(0, 136+adj, 255), lim(0, 0+adj, 255), lim(0, 0+adj, 255)],\n",
    "\"nectar\":[lim(0, 86-adj, 255), lim(0, 255-adj, 255), lim(0, 255-adj, 255), \n",
    "          lim(0, 86+adj, 255), lim(0, 255+adj, 255), lim(0, 255+adj, 255)],\n",
    "\"nectar_d?\":[lim(0, 60-adj, 255), lim(0, 183-adj, 255), lim(0, 183-adj, 255), \n",
    "            lim(0, 60+adj, 255), lim(0, 183+adj, 255), lim(0, 183+adj, 255)],\n",
    "\"honey\":[lim(0, 197-adj, 255), lim(0, 255-adj, 255), lim(0, 216-adj, 255), \n",
    "         lim(0, 197+adj, 255), lim(0, 255+adj, 255), lim(0, 216+adj, 255)],\n",
    "\"honey_d?\":[lim(0, 185-adj, 255), lim(0, 210-adj, 255), lim(0, 168-adj, 255), \n",
    "           lim(0, 185+adj, 255), lim(0, 210+adj, 255), lim(0, 168+adj, 255)],\n",
    "\"empty\":[lim(0, 92-adj, 255), lim(0, 92-adj, 255), lim(0, 92-adj, 255), \n",
    "         lim(0, 92+adj, 255), lim(0, 92+adj, 255), lim(0, 92+adj, 255)],\n",
    "\"empty_d\":[lim(0, 0-adj, 255), lim(0, 0-adj, 255), lim(0, 0-adj, 255), \n",
    "           lim(0, 0+adj, 255), lim(0, 0+adj, 255), lim(0, 0+adj, 255)],\n",
    "\"pollen\":[lim(0, 34-adj, 255), lim(0, 101-adj, 255), lim(0, 242-adj, 255), \n",
    "          lim(0, 34+adj, 255), lim(0, 101+adj, 255), lim(0, 242+adj, 255)],\n",
    "\"pollen_d?\":[lim(0, 29-adj, 255), lim(0, 60-adj, 255), lim(0, 127-adj, 255), \n",
    "            lim(0, 29+adj, 255), lim(0, 60+adj, 255), lim(0, 127+adj, 255)]    \n",
    "}\n",
    "\n",
    "# The color palette from 2013: \n",
    "# color_palette = {\n",
    "# \"bg\":[255,255,255,255,255,255],\n",
    "# \"brood\":[35,50,236,35,50,236],\n",
    "# \"brood_d\":[128,117,227,128,117,227],\n",
    "# \"honey\":[245,33,0,245,33,0],\n",
    "# \"honey_d\":[252,251,117,252,251,117],\n",
    "# \"empty\":[75,250,117,75,250,117],\n",
    "# \"empty_d\":[161,210,172,161,210,172],\n",
    "# \"pollen\":[61,151,235,61,151,235]\n",
    "# }\n",
    "\n",
    "search_ratio = 0.05"
   ]
  },
  {
   "cell_type": "code",
   "execution_count": 6,
   "metadata": {},
   "outputs": [],
   "source": [
    "# Paths:\n",
    "\n",
    "# these are the original full-sized images: \n",
    "original_images_path = './original_images/*/'\n",
    "\n",
    "# first step will be to apply the symmetric shift: \n",
    "symmetric_shift_images_path = './symmetric_shift_images/'\n",
    "\n",
    "# THEN scale them down (otherwise get rough edges from the symmetric shift):\n",
    "scaled_images_path = \"./shrink\"\n",
    "\n"
   ]
  },
  {
   "cell_type": "code",
<<<<<<< Updated upstream
   "execution_count": 7,
=======
   "execution_count": 6,
>>>>>>> Stashed changes
   "metadata": {},
   "outputs": [
    {
     "name": "stderr",
     "output_type": "stream",
     "text": [
<<<<<<< Updated upstream
      "Progress: 100%|██████████| 8/8 [00:31<00:00,  3.90s/it]\n"
=======
      "Progress: 100%|██████████| 6/6 [00:41<00:00,  6.92s/it]\n"
>>>>>>> Stashed changes
     ]
    }
   ],
   "source": [
    "# FIRST apply the symmetric shift to each image: \n",
    "\n",
    "for file in tqdm(glob.glob(original_images_path+\"/*.png\"),desc=\"Progress\"): # be sure to have .PNG file! \n",
    "    original = cv2.imread(file)\n",
    "    symmetric_shifted = symmetric_shift(original)\n",
    "    savestring = os.path.join(symmetric_shift_images_path,f\"{os.path.splitext(os.path.basename(file))[0]}.png\")\n",
    "    cv2.imwrite(savestring,symmetric_shifted)\n"
   ]
  },
  {
   "cell_type": "code",
<<<<<<< Updated upstream
   "execution_count": 8,
=======
   "execution_count": 10,
>>>>>>> Stashed changes
   "metadata": {},
   "outputs": [
    {
     "name": "stderr",
     "output_type": "stream",
     "text": [
<<<<<<< Updated upstream
      "Progress: 100%|██████████| 8/8 [00:05<00:00,  1.41it/s]\n"
=======
      "Progress: 100%|██████████| 6/6 [00:07<00:00,  1.23s/it]\n"
>>>>>>> Stashed changes
     ]
    }
   ],
   "source": [
    "# THEN resize them: \n",
    "# Ideally, the height would be 100 px, but need to remove white space\n",
    "\n",
    "for file in tqdm(glob.glob(symmetric_shift_images_path+\"/*.png\"),desc=\"Progress\"): # be sure to have .PNG file! \n",
    "    savestring = os.path.join(scaled_images_path,f\"{os.path.splitext(os.path.basename(file))[0]}.png\")\n",
    "    image = cv2.imread(file)\n",
    "    resized = scale.resize3(image,100) # height, in PX - NOW AT 100 PX!!! (obs hive is 100cm high, 1px=1cm=2x2cells)\n",
    "    cv2.imwrite(savestring,resized)\n",
    "    image = cv2.imread(savestring)\n",
    "    cropped = auto_crop_color(image)\n",
    "    cv2.imwrite(savestring,cropped)"
   ]
  },
  {
   "cell_type": "code",
<<<<<<< Updated upstream
   "execution_count": 9,
=======
   "execution_count": 11,
   "metadata": {},
   "outputs": [
    {
     "data": {
      "text/plain": [
       "'./shrink/East_day105_16Apr2013_mirror.png'"
      ]
     },
     "execution_count": 11,
     "metadata": {},
     "output_type": "execute_result"
    }
   ],
   "source": [
    "savestring"
   ]
  },
  {
   "cell_type": "code",
   "execution_count": 12,
>>>>>>> Stashed changes
   "metadata": {},
   "outputs": [],
   "source": [
    "### NOTE: STILL NEED TO REMOVE EXCESS WHITE SPACE ###\n",
    "### NOTE: The shrink images still have a few pixels that deviate from the palette ###"
   ]
  },
  {
   "cell_type": "code",
<<<<<<< Updated upstream
   "execution_count": 10,
=======
   "execution_count": 13,
>>>>>>> Stashed changes
   "metadata": {
    "scrolled": false
   },
   "outputs": [
    {
     "name": "stdout",
     "output_type": "stream",
     "text": [
      "./shrink/East_day105_16Apr2013_S.png\n"
     ]
    },
    {
     "data": {
<<<<<<< Updated upstream
      "image/png": "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\n",
=======
      "image/png": "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\n",
>>>>>>> Stashed changes
      "text/plain": [
       "<Figure size 720x720 with 1 Axes>"
      ]
     },
     "metadata": {
      "needs_background": "light"
     },
     "output_type": "display_data"
    },
    {
     "name": "stdout",
     "output_type": "stream",
     "text": [
      "./shrink/East_day105_16Apr2013_N.png\n"
     ]
    },
    {
     "data": {
<<<<<<< Updated upstream
      "image/png": "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\n",
=======
      "image/png": "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\n",
>>>>>>> Stashed changes
      "text/plain": [
       "<Figure size 720x720 with 1 Axes>"
      ]
     },
     "metadata": {
      "needs_background": "light"
     },
     "output_type": "display_data"
    },
    {
     "name": "stdout",
     "output_type": "stream",
     "text": [
<<<<<<< Updated upstream
      "./shrink/square.png\n"
=======
      "./shrink/Office_day261_18Sep2013_W.png\n"
>>>>>>> Stashed changes
     ]
    },
    {
     "data": {
<<<<<<< Updated upstream
      "image/png": "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\n",
=======
      "image/png": "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\n",
>>>>>>> Stashed changes
      "text/plain": [
       "<Figure size 720x720 with 1 Axes>"
      ]
     },
     "metadata": {
      "needs_background": "light"
     },
     "output_type": "display_data"
    },
    {
     "name": "stdout",
     "output_type": "stream",
     "text": [
      "./shrink/Office_day261_18Sep2013_mirror.png\n"
     ]
    },
    {
     "data": {
<<<<<<< Updated upstream
      "image/png": "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\n",
=======
      "image/png": "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\n",
>>>>>>> Stashed changes
      "text/plain": [
       "<Figure size 720x720 with 1 Axes>"
      ]
     },
     "metadata": {
      "needs_background": "light"
     },
     "output_type": "display_data"
    },
    {
     "name": "stdout",
     "output_type": "stream",
     "text": [
<<<<<<< Updated upstream
      "./shrink/East_day105_16Apr2013_N.png\n"
=======
      "./shrink/Office_day261_18Sep2013_E.png\n"
>>>>>>> Stashed changes
     ]
    },
    {
     "data": {
<<<<<<< Updated upstream
      "image/png": "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\n",
=======
      "image/png": "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\n",
>>>>>>> Stashed changes
      "text/plain": [
       "<Figure size 720x720 with 1 Axes>"
      ]
     },
     "metadata": {
      "needs_background": "light"
     },
     "output_type": "display_data"
    },
    {
     "name": "stdout",
     "output_type": "stream",
     "text": [
<<<<<<< Updated upstream
      "./shrink/Office_day261_18Sep2013_mirror.png\n"
=======
      "./shrink/East_day105_16Apr2013_mirror.png\n"
>>>>>>> Stashed changes
     ]
    },
    {
     "data": {
<<<<<<< Updated upstream
      "image/png": "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\n",
=======
      "image/png": "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\n",
>>>>>>> Stashed changes
      "text/plain": [
       "<Figure size 720x720 with 1 Axes>"
      ]
     },
     "metadata": {
      "needs_background": "light"
     },
     "output_type": "display_data"
    },
    {
     "name": "stdout",
     "output_type": "stream",
     "text": [
      "./shrink/East_day105_16Apr2013_S.png\n"
     ]
    },
    {
     "data": {
<<<<<<< Updated upstream
      "image/png": "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\n",
=======
      "image/png": "iVBORw0KGgoAAAANSUhEUgAAAlAAAAHUCAYAAAD1KxYWAAAABHNCSVQICAgIfAhkiAAAAAlwSFlzAAALEgAACxIB0t1+/AAAADh0RVh0U29mdHdhcmUAbWF0cGxvdGxpYiB2ZXJzaW9uMy4yLjIsIGh0dHA6Ly9tYXRwbG90bGliLm9yZy+WH4yJAAATXklEQVR4nO3dX4ilh3nf8d9TrVybOkVSNRWLJHfdRNSIUq/xVDg4F65SF8UNlQMhRLRBFwalEIMNbl3FN4lLA0lorPQiBJRKtS5cO8J2amGctkIRuIYiZ9aWZclKsOLaRGKtHeMI2zcKkp9ezBuyFbvdeXb+nDOjzweGOe+fs+8DL5r56j3vOVPdHQAAdu9vrHoAAICjRkABAAwJKACAIQEFADAkoAAAhgQUAMDQicM82LXXXtunTp06zENy2M6cWfUEAIfjrW9d9QQcsDNnznynuzcutO1QA+rUqVPZ2to6zENy2KpWPQHA4fD77Nirqm9dbNueXsKrqtuq6k+r6pmqunsv/xYAwFFx2QFVVVck+Z0kP5Xk5iR3VNXN+zUYAMC62ssVqFuSPNPd3+juv0zyiSS3789YAADray8BdX2SPz9v+dllHQDAsXbgH2NQVXdV1VZVbW1vbx/04QAADtxeAuq5JDeet3zDsu7/0d33dvdmd29ubFzwnYAAAEfKXgLqj5PcVFVvrKrXJPn5JA/tz1gAAOvrsj8Hqrtfqqr3JvkfSa5Icn93P7VvkwEArKk9fZBmd38uyef2aRYAgCPB38IDABgSUAAAQwIKAGBIQAEADAkoAIAhAQUAMCSgAACGBBQAwJCAAgAYElAAAEMCCgBgSEABAAwJKACAIQEFADAkoAAAhgQUAMCQgAIAGBJQAABDAgoAYEhAAQAMCSgAgCEBBQAwJKAAAIYEFADAkIACABgSUAAAQwIKAGBIQAEADAkoAIAhAQUAMCSgAACGBBQAwJCAAgAYElAAAEMCCgBgSEABAAwJKACAIQEFADAkoAAAhgQUAMCQgAIAGBJQAABDAgoAYEhAAQAMCSgAgCEBBQAwJKAAAIYEFADAkIACABgSUAAAQwIKAGBIQAEADJ3Yy5Or6ptJvp/k5SQvdffmfgwFALDO9hRQi3/S3d/Zh38HAOBI8BIeAMDQXgOqk/zPqjpTVXftx0AAAOtury/h/UR3P1dVfzfJw1X1J939+fN3WMLqriR5wxvesMfDAQCs3p6uQHX3c8v3c0n+IMktF9jn3u7e7O7NjY2NvRwOAGAtXHZAVdXfqqof+avHSf5Zkif3azAAgHW1l5fwrkvyB1X1V//Of+3u/74vUwEArLHLDqju/kaSN+/jLAAAR4KPMQAAGBJQAABDAgoAYEhAAQAMCSgAgCEBBQAwJKAAAIYEFADAkIACABgSUAAAQwIKAGBIQAEADAkoAIChE6segGOme9UTAMCBcwUKAGBIQAEADAkoAIAhAQUAMCSgAACGBBQAwJCAAgAYElAAAEMCCgBgSEABAAwJKACAIQEFADAkoAAAhgQUAMCQgAIAGBJQAABDAgoAYEhAAQAMCSgAgCEBBQAwJKAAAIYEFADAkIACABg6seoBOF4++MFVTwBwOH7zN1c9AavkChQAwJCAAgAYElAAAEMCCgBgSEABAAwJKACAIQEFADAkoAAAhgQUAMCQgAIAGBJQAABD1d2HdrDNzc3e2to6tONx+KpWPQHA4TjEX5+sSFWd6e7NC21zBQoAYEhAAQAMXTKgqur+qjpXVU+et+6aqnq4qr6+fL/6YMcEAFgfu7kC9dEkt71i3d1JHunum5I8siwDALwqXDKguvvzSb77itW3J3lgefxAknfv81wAAGvrcu+Buq67zy6Pv53kuovtWFV3VdVWVW1tb29f5uEAANbHnm8i753PQbjomzm7+97u3uzuzY2Njb0eDgBg5S43oJ6vqpNJsnw/t38jAQCst8sNqIeS3Lk8vjPJZ/ZnHACA9bebjzH4eJL/neQfVNWzVfWeJL+e5J1V9fUk/3RZBgB4VThxqR26+46LbPrJfZ4FAOBI8EnkAABDAgoAYEhAAQAMCSgAgCEBBQAwJKAAAIYEFADAkIACABgSUAAAQwIKAGBIQAEADAkoAIAhAQUAMCSgAACGBBQAwJCAAgAYElAAAEMCCgBgSEABAAwJKACAIQEFADAkoAAAhgQUAMCQgAIAGBJQAABDAgoAYEhAAQAMCSgAgCEBBQAwJKAAAIYEFADAkIACABgSUAAAQwIKAGBIQAEADAkoAIAhAQUAMCSgAACGBBQAwJCAAgAYElAAAEMCCgBgSEABAAwJKACAIQEFADAkoAAAhgQUAMCQgAIAGBJQAABDAgoAYEhAAQAMXTKgqur+qjpXVU+et+5Xq+q5qnp8+XrXwY4JALA+dnMF6qNJbrvA+nu6+/Ty9bn9HQsAYH1dMqC6+/NJvnsIswAAHAl7uQfqvVX1xPIS39X7NhEAwJq73ID63SQ/muR0krNJfutiO1bVXVW1VVVb29vbl3k4AID1cVkB1d3Pd/fL3f3DJL+X5Jb/z773dvdmd29ubGxc7pwAAGvjsgKqqk6et/gzSZ682L4AAMfNiUvtUFUfT/KOJNdW1bNJfiXJO6rqdJJO8s0kv3iAMwIArJVLBlR333GB1fcdwCwAAEeCTyIHABi65BWofXXmTFJ1qIfksPWqBwA4HH6fvaq5AgUAMCSgAACGBBQAwJCAAgAYElAAAEMCCgBgSEABAAwJKACAIQEFADAkoAAAhgQUAMCQgAIAGBJQAABDAgoAYEhAAQAMCSgAgCEBBQAwJKAAAIYEFADAkIACABgSUAAAQwIKAGBIQAEADAkoAIAhAQUAMCSgAACGBBQAwJCAAgAYElAAAEMCCgBgSEABAAwJKACAIQEFADAkoAAAhgQUAMCQgAIAGBJQAABDAgoAYEhAAQAMCSgAgCEBBQAwJKAAAIYEFADAkIACABgSUAAAQwIKAGBIQAEADAkoAIAhAQUAMCSgAACGLhlQVXVjVT1aVV+rqqeq6n3L+muq6uGq+vry/eqDHxcAYPV2cwXqpSQf6O6bk7wtyS9V1c1J7k7ySHfflOSRZRkA4Ni7ZEB199nu/tLy+PtJnk5yfZLbkzyw7PZAkncf1JAAAOtkdA9UVZ1K8pYkjyW5rrvPLpu+neS6fZ0MAGBN7Tqgqur1ST6V5P3d/b3zt3V3J+mLPO+uqtqqqq3tPY0KALAedhVQVXVlduLpY9396WX181V1ctl+Msm5Cz23u+/t7s3u3tzYj4kBAFZsN+/CqyT3JXm6uz9y3qaHkty5PL4zyWf2fzwAgPVzYhf7vD3JLyT5alU9vqz7UJJfT/JgVb0nybeS/NzBjAgAsF4uGVDd/YUkdZHNP7m/4wAArD+fRA4AMCSgAACGBBQAwJCAAgAYElAAAEMCCgBgSEABAAwJKACAIQEFADAkoAAAhgQUAMCQgAIAGBJQAABDJw71aG99a7K1daiH5JDVqgcAOCTdq56Ag1YX/6XmChQAwJCAAgAYElAAAEMCCgBgSEABAAwJKACAIQEFADAkoAAAhgQUAMCQgAIAGBJQAABDAgoAYEhAAQAMCSgAgCEBBQAwJKAAAIYEFADAkIACABgSUAAAQwIKAGBIQAEADAkoAIAhAQUAMCSgAACGBBQAwJCAAgAYElAAAEMCCgBgSEABAAwJKACAIQEFADAkoAAAhgQUAMCQgAIAGBJQAABDAgoAYEhAAQAMCSgAgKFLBlRV3VhVj1bV16rqqap637L+V6vquap6fPl618GPCwCweid2sc9LST7Q3V+qqh9JcqaqHl623dPd//HgxgMAWD+XDKjuPpvk7PL4+1X1dJLrD3owAIB1NboHqqpOJXlLkseWVe+tqieq6v6quvoiz7mrqraqamt7e3tPwwIArINdB1RVvT7Jp5K8v7u/l+R3k/xoktPZuUL1Wxd6Xnff292b3b25sbGxDyMDAKzWrgKqqq7MTjx9rLs/nSTd/Xx3v9zdP0zye0luObgxAQDWx27ehVdJ7kvydHd/5Lz1J8/b7WeSPLn/4wEArJ/dvAvv7Ul+IclXq+rxZd2HktxRVaeTdJJvJvnFA5kQAGDN7OZdeF9IUhfY9Ln9HwcAYP35JHIAgCEBBQAwJKAAAIYEFADAkIACABgSUAAAQwIKAGBIQAEADAkoAIAhAQUAMCSgAACGBBQAwJCAAgAYElAAAEMCCgBgSEABAAwJKACAIQEFADAkoAAAhgQUAMCQgAIAGBJQAABDAgoAYEhAAQAMCSgAgCEBBQAwJKAAAIYEFADAkIACABgSUAAAQwIKAGBIQAEADAkoAIAhAQUAMCSgAACGBBQAwJCAAgAYElAAAEMCCgBgSEABAAwJKACAIQEFADAkoAAAhgQUAMCQgAIAGBJQAABDAgoAYEhAAQAMCSgAgCEBBQAwJKAAAIYuGVBV9dqq+mJVfaWqnqqqDy/r31hVj1XVM1X1+1X1moMfFwBg9XZzBerFJLd295uTnE5yW1W9LclvJLmnu38syV8kec/BjQkAsD4uGVC94wfL4pXLVye5Ncknl/UPJHn3gUwIALBmdnUPVFVdUVWPJzmX5OEkf5bkhe5+adnl2STXH8yIAADrZVcB1d0vd/fpJDckuSXJm3Z7gKq6q6q2qmpre3v7MscEAFgfo3fhdfcLSR5N8uNJrqqqE8umG5I8d5Hn3Nvdm929ubGxsadhAQDWwW7ehbdRVVctj1+X5J1Jns5OSP3sstudST5zUEMCAKyTE5feJSeTPFBVV2QnuB7s7s9W1deSfKKq/kOSLye57wDnBABYG5cMqO5+IslbLrD+G9m5HwoA4FXFJ5EDAAwJKACAIQEFADAkoAAAhgQUAMCQgAIAGBJQAABDAgoAYEhAAQAMCSgAgCEBBQAwJKAAAIYEFADAkIACABgSUAAAQwIKAGBIQAEADAkoAIAhAQUAMCSgAACGBBQAwJCAAgAYElAAAEMCCgBgSEABAAwJKACAIQEFADAkoAAAhgQUAMCQgAIAGBJQAABDAgoAYEhAAQAMCSgAgCEBBQAwJKAAAIYEFADAkIACABgSUAAAQwIKAGBIQAEADAkoAIAhAQUAMCSgAACGBBQAwJCAAgAYElAAAEMCCgBgSEABAAwJKACAIQEFADAkoAAAhi4ZUFX12qr6YlV9paqeqqoPL+s/WlX/p6oeX75OH/y4AACrd2IX+7yY5Nbu/kFVXZnkC1X1h8u2f9vdnzy48QAA1s8lA6q7O8kPlsUrl68+yKEAANbZru6BqqorqurxJOeSPNzdjy2bfq2qnqiqe6rqbx7YlAAAa2RXAdXdL3f36SQ3JLmlqv5hkl9O8qYk/zjJNUn+3YWeW1V3VdVWVW1tb2/v09gAAKszehded7+Q5NEkt3X32d7xYpL/kuSWizzn3u7e7O7NjY2NvU8MALBiu3kX3kZVXbU8fl2Sdyb5k6o6uayrJO9O8uRBDgoAsC528y68k0keqKorshNcD3b3Z6vqj6pqI0kleTzJvz7AOQEA1sZu3oX3RJK3XGD9rQcyEQDAmvNJ5AAAQ7XzMU+HdLCq7STfusCma5N859AGYRWc41cH5/n4c46PP+f4r/297r7gO+AONaAupqq2untz1XNwcJzjVwfn+fhzjo8/53h3vIQHADAkoAAAhtYloO5d9QAcOOf41cF5Pv6c4+PPOd6FtbgHCgDgKFmXK1AAAEfGygOqqm6rqj+tqmeq6u5Vz8PeVdX9VXWuqp48b901VfVwVX19+X71Kmdkb6rqxqp6tKq+VlVPVdX7lvXO8zFRVa+tqi9W1VeWc/zhZf0bq+qx5Wf271fVa1Y9K3tTVVdU1Zer6rPLsnO8CysNqOXPw/xOkp9KcnOSO6rq5lXOxL74aJLbXrHu7iSPdPdNSR5Zljm6Xkryge6+OcnbkvzS8t+u83x8vJjk1u5+c5LTSW6rqrcl+Y0k93T3jyX5iyTvWeGM7I/3JXn6vGXneBdWfQXqliTPdPc3uvsvk3wiye0rnok96u7PJ/nuK1bfnuSB5fED2fkD1BxR3X22u7+0PP5+dn74Xh/n+djoHT9YFq9cvjrJrUk+uax3jo+4qrohyT9P8p+X5YpzvCurDqjrk/z5ecvPLus4fq7r7rPL428nuW6Vw7B/qupUdv5e5mNxno+V5aWdx5OcS/Jwkj9L8kJ3v7Ts4mf20ffbST6Y5IfL8t+Jc7wrqw4oXoV6562f3v55DFTV65N8Ksn7u/t7529zno++7n65u08nuSE7rxi8acUjsY+q6qeTnOvuM6ue5Sg6seLjP5fkxvOWb1jWcfw8X1Unu/tsVZ3Mzv/RcoRV1ZXZiaePdfenl9XO8zHU3S9U1aNJfjzJVVV1YrlC4Wf20fb2JP+iqt6V5LVJ/naS/xTneFdWfQXqj5PctNzx/5okP5/koRXPxMF4KMmdy+M7k3xmhbOwR8t9Evclebq7P3LeJuf5mKiqjaq6ann8uiTvzM69bo8m+dllN+f4COvuX+7uG7r7VHZ+//5Rd//LOMe7svIP0lzK97eTXJHk/u7+tZUOxJ5V1ceTvCM7f9H7+SS/kuS/JXkwyRuSfCvJz3X3K28054ioqp9I8r+SfDV/fe/Eh7JzH5TzfAxU1T/Kzg3EV2Tnf7Yf7O5/X1V/Pztv+LkmyZeT/KvufnF1k7IfquodSf5Nd/+0c7w7Kw8oAICjZtUv4QEAHDkCCgBgSEABAAwJKACAIQEFADAkoAAAhgQUAMCQgAIAGPq/WHin9L5NFGgAAAAASUVORK5CYII=\n",
>>>>>>> Stashed changes
      "text/plain": [
       "<Figure size 720x720 with 1 Axes>"
      ]
     },
     "metadata": {
      "needs_background": "light"
     },
     "output_type": "display_data"
    },
    {
     "name": "stdout",
     "output_type": "stream",
     "text": [
      "./shrink/japan.png\n"
     ]
    },
    {
     "data": {
<<<<<<< Updated upstream
      "image/png": "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\n",
=======
      "image/png": "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\n",
>>>>>>> Stashed changes
      "text/plain": [
       "<Figure size 720x720 with 1 Axes>"
      ]
     },
     "metadata": {
      "needs_background": "light"
     },
     "output_type": "display_data"
    }
   ],
   "source": [
    "# Just for early versions, show all images to make sure all good: \n",
    "\n",
    "glob_str = scaled_images_path+'/*'\n",
    "filenames = glob.glob(glob_str)\n",
    "\n",
    "for i in filenames:\n",
    "    print(i)\n",
    "    img = cv2.imread(i)\n",
    "    plt.imshow(img)\n",
    "    plt.show()"
   ]
  },
  {
   "cell_type": "code",
   "execution_count": 11,
   "metadata": {},
   "outputs": [],
   "source": [
    "\n",
    "# Here is where we make the overall dataframe\n",
    "# Uses symmetry.process_one\n",
    "\n",
    "# THIS is where it would be important to incorporate a baseline symmetry\n",
    "# i.e. we use symmetry.process_one to calculate the symmetry, but take into account the overall image\n",
    "# (the original way I was going to do this was by shuffling the image, and subtracting the shuffled value from the observed value)\n",
    "\n"
   ]
  },
  {
   "cell_type": "code",
   "execution_count": 12,
   "metadata": {},
   "outputs": [],
   "source": [
    "#Since you're exclusively using angles of 0 and 90 degrees, you might as well just transpose the layers"
   ]
  },
  {
   "cell_type": "code",
<<<<<<< Updated upstream
   "execution_count": 13,
=======
   "execution_count": 16,
>>>>>>> Stashed changes
   "metadata": {},
   "outputs": [],
   "source": [
    "df_stochastic = []\n",
    "for i in filenames:\n",
    "    palette = color_palette if not ((\"japan.png\" in i) or (\"square.png\" in i)) else {'bg':[255]*6, 'red':[0,0,255,0,0,255], 'blue':[255,0,0,255,0,0]}\n",
    "    img = cv2.imread(i)\n",
    "    row = {\n",
    "        \"name\": os.path.basename(i),\n",
    "        \"score0\": symmetry.symmetry_stochastic(img,color_dict=palette),\n",
    "        \"score90\": symmetry.symmetry_stochastic(img.transpose(1,0,2),color_dict=palette)\n",
    "    }\n",
    "    df_stochastic.append(row)\n",
    "df_stochastic = pd.DataFrame(df_stochastic)"
   ]
  },
  {
   "cell_type": "markdown",
   "metadata": {},
   "source": [
    "This score ranges from -1 to 1. Positive values indicate symmetry whereas negative ones indicate asymmetry. Getting a value of zero means that the color distribution is expected from a binomial distribution."
   ]
  },
  {
   "cell_type": "code",
<<<<<<< Updated upstream
   "execution_count": 14,
=======
   "execution_count": 17,
>>>>>>> Stashed changes
   "metadata": {},
   "outputs": [
    {
     "data": {
      "text/html": [
       "<div>\n",
       "<style scoped>\n",
       "    .dataframe tbody tr th:only-of-type {\n",
       "        vertical-align: middle;\n",
       "    }\n",
       "\n",
       "    .dataframe tbody tr th {\n",
       "        vertical-align: top;\n",
       "    }\n",
       "\n",
       "    .dataframe thead th {\n",
       "        text-align: right;\n",
       "    }\n",
       "</style>\n",
       "<table border=\"1\" class=\"dataframe\">\n",
       "  <thead>\n",
       "    <tr style=\"text-align: right;\">\n",
       "      <th></th>\n",
       "      <th>name</th>\n",
       "      <th>score0</th>\n",
       "      <th>score90</th>\n",
       "    </tr>\n",
       "  </thead>\n",
       "  <tbody>\n",
       "    <tr>\n",
       "      <th>0</th>\n",
<<<<<<< Updated upstream
       "      <td>East_day105_16Apr2013_mirror.png</td>\n",
=======
       "      <td>East_day105_16Apr2013_S.png</td>\n",
>>>>>>> Stashed changes
       "      <td>1.0</td>\n",
       "      <td>1.0</td>\n",
       "    </tr>\n",
       "    <tr>\n",
       "      <th>1</th>\n",
<<<<<<< Updated upstream
       "      <td>Office_day261_18Sep2013_W.png</td>\n",
=======
       "      <td>East_day105_16Apr2013_N.png</td>\n",
>>>>>>> Stashed changes
       "      <td>1.0</td>\n",
       "      <td>1.0</td>\n",
       "    </tr>\n",
       "    <tr>\n",
       "      <th>2</th>\n",
<<<<<<< Updated upstream
       "      <td>square.png</td>\n",
=======
       "      <td>Office_day261_18Sep2013_W.png</td>\n",
>>>>>>> Stashed changes
       "      <td>1.0</td>\n",
       "      <td>1.0</td>\n",
       "    </tr>\n",
       "    <tr>\n",
       "      <th>3</th>\n",
<<<<<<< Updated upstream
       "      <td>Office_day261_18Sep2013_E.png</td>\n",
=======
       "      <td>Office_day261_18Sep2013_mirror.png</td>\n",
>>>>>>> Stashed changes
       "      <td>1.0</td>\n",
       "      <td>1.0</td>\n",
       "    </tr>\n",
       "    <tr>\n",
       "      <th>4</th>\n",
<<<<<<< Updated upstream
       "      <td>East_day105_16Apr2013_N.png</td>\n",
=======
       "      <td>Office_day261_18Sep2013_E.png</td>\n",
>>>>>>> Stashed changes
       "      <td>1.0</td>\n",
       "      <td>1.0</td>\n",
       "    </tr>\n",
       "    <tr>\n",
       "      <th>5</th>\n",
<<<<<<< Updated upstream
       "      <td>Office_day261_18Sep2013_mirror.png</td>\n",
=======
       "      <td>East_day105_16Apr2013_mirror.png</td>\n",
>>>>>>> Stashed changes
       "      <td>1.0</td>\n",
       "      <td>1.0</td>\n",
       "    </tr>\n",
       "    <tr>\n",
       "      <th>6</th>\n",
<<<<<<< Updated upstream
       "      <td>East_day105_16Apr2013_S.png</td>\n",
=======
       "      <td>square.png</td>\n",
>>>>>>> Stashed changes
       "      <td>1.0</td>\n",
       "      <td>1.0</td>\n",
       "    </tr>\n",
       "    <tr>\n",
       "      <th>7</th>\n",
       "      <td>japan.png</td>\n",
       "      <td>1.0</td>\n",
       "      <td>1.0</td>\n",
       "    </tr>\n",
       "  </tbody>\n",
       "</table>\n",
       "</div>"
      ],
      "text/plain": [
       "                                 name  score0  score90\n",
<<<<<<< Updated upstream
       "0    East_day105_16Apr2013_mirror.png     1.0      1.0\n",
       "1       Office_day261_18Sep2013_W.png     1.0      1.0\n",
       "2                          square.png     1.0      1.0\n",
       "3       Office_day261_18Sep2013_E.png     1.0      1.0\n",
       "4         East_day105_16Apr2013_N.png     1.0      1.0\n",
       "5  Office_day261_18Sep2013_mirror.png     1.0      1.0\n",
       "6         East_day105_16Apr2013_S.png     1.0      1.0\n",
       "7                           japan.png     1.0      1.0"
      ]
     },
     "execution_count": 14,
=======
       "0         East_day105_16Apr2013_S.png     1.0      1.0\n",
       "1         East_day105_16Apr2013_N.png     1.0      1.0\n",
       "2       Office_day261_18Sep2013_W.png     1.0      1.0\n",
       "3  Office_day261_18Sep2013_mirror.png     1.0      1.0\n",
       "4       Office_day261_18Sep2013_E.png     1.0      1.0\n",
       "5    East_day105_16Apr2013_mirror.png     1.0      1.0\n",
       "6                          square.png     1.0      1.0\n",
       "7                           japan.png     1.0      1.0"
      ]
     },
     "execution_count": 17,
>>>>>>> Stashed changes
     "metadata": {},
     "output_type": "execute_result"
    }
   ],
   "source": [
    "df_stochastic"
   ]
  },
  {
   "cell_type": "code",
<<<<<<< Updated upstream
   "execution_count": 15,
=======
   "execution_count": 22,
>>>>>>> Stashed changes
   "metadata": {},
   "outputs": [
    {
     "name": "stdout",
     "output_type": "stream",
     "text": [
<<<<<<< Updated upstream
      "2022-01-02 12:54:15.452446\n",
      "./shrink/East_day105_16Apr2013_mirror.png\n",
      "process_one 0.11449360847473145\n",
      "process_one 0.043176889419555664\n",
      "./shrink/Office_day261_18Sep2013_W.png\n",
      "process_one 0.006715059280395508\n",
      "process_one 0.007043361663818359\n",
      "./shrink/square.png\n",
      "process_one 0.008467435836791992\n",
      "process_one 0.008884429931640625\n"
     ]
    },
    {
     "ename": "IndexError",
     "evalue": "list index out of range",
     "output_type": "error",
     "traceback": [
      "\u001b[0;31m---------------------------------------------------------------------------\u001b[0m",
      "\u001b[0;31mIndexError\u001b[0m                                Traceback (most recent call last)",
      "\u001b[0;32m<ipython-input-15-9cc6aedd5885>\u001b[0m in \u001b[0;36m<module>\u001b[0;34m\u001b[0m\n\u001b[1;32m     24\u001b[0m \u001b[0;34m\u001b[0m\u001b[0m\n\u001b[1;32m     25\u001b[0m     \u001b[0;31m# add EXP DATE, as an integer:\u001b[0m\u001b[0;34m\u001b[0m\u001b[0;34m\u001b[0m\u001b[0m\n\u001b[0;32m---> 26\u001b[0;31m     \u001b[0md0\u001b[0m\u001b[0;34m[\u001b[0m\u001b[0;34m'expday'\u001b[0m\u001b[0;34m]\u001b[0m \u001b[0;34m=\u001b[0m \u001b[0mint\u001b[0m\u001b[0;34m(\u001b[0m\u001b[0mi\u001b[0m\u001b[0;34m.\u001b[0m\u001b[0mrsplit\u001b[0m\u001b[0;34m(\u001b[0m\u001b[0;34m'/'\u001b[0m\u001b[0;34m,\u001b[0m\u001b[0;36m1\u001b[0m\u001b[0;34m)\u001b[0m\u001b[0;34m[\u001b[0m\u001b[0;34m-\u001b[0m\u001b[0;36m1\u001b[0m\u001b[0;34m]\u001b[0m\u001b[0;34m.\u001b[0m\u001b[0mrsplit\u001b[0m\u001b[0;34m(\u001b[0m\u001b[0;34m'_'\u001b[0m\u001b[0;34m)\u001b[0m\u001b[0;34m[\u001b[0m\u001b[0;36m1\u001b[0m\u001b[0;34m]\u001b[0m\u001b[0;34m[\u001b[0m\u001b[0;36m3\u001b[0m\u001b[0;34m:\u001b[0m\u001b[0;34m]\u001b[0m\u001b[0;34m)\u001b[0m\u001b[0;34m\u001b[0m\u001b[0;34m\u001b[0m\u001b[0m\n\u001b[0m\u001b[1;32m     27\u001b[0m     \u001b[0md90\u001b[0m\u001b[0;34m[\u001b[0m\u001b[0;34m'expday'\u001b[0m\u001b[0;34m]\u001b[0m \u001b[0;34m=\u001b[0m \u001b[0mint\u001b[0m\u001b[0;34m(\u001b[0m\u001b[0mi\u001b[0m\u001b[0;34m.\u001b[0m\u001b[0mrsplit\u001b[0m\u001b[0;34m(\u001b[0m\u001b[0;34m'/'\u001b[0m\u001b[0;34m,\u001b[0m\u001b[0;36m1\u001b[0m\u001b[0;34m)\u001b[0m\u001b[0;34m[\u001b[0m\u001b[0;34m-\u001b[0m\u001b[0;36m1\u001b[0m\u001b[0;34m]\u001b[0m\u001b[0;34m.\u001b[0m\u001b[0mrsplit\u001b[0m\u001b[0;34m(\u001b[0m\u001b[0;34m'_'\u001b[0m\u001b[0;34m)\u001b[0m\u001b[0;34m[\u001b[0m\u001b[0;36m1\u001b[0m\u001b[0;34m]\u001b[0m\u001b[0;34m[\u001b[0m\u001b[0;36m3\u001b[0m\u001b[0;34m:\u001b[0m\u001b[0;34m]\u001b[0m\u001b[0;34m)\u001b[0m\u001b[0;34m\u001b[0m\u001b[0;34m\u001b[0m\u001b[0m\n\u001b[1;32m     28\u001b[0m \u001b[0;34m\u001b[0m\u001b[0m\n",
      "\u001b[0;31mIndexError\u001b[0m: list index out of range"
=======
      "./shrink/East_day105_16Apr2013_S.png\n",
      "./shrink/East_day105_16Apr2013_N.png\n",
      "./shrink/Office_day261_18Sep2013_W.png\n",
      "./shrink/Office_day261_18Sep2013_mirror.png\n",
      "./shrink/Office_day261_18Sep2013_E.png\n",
      "./shrink/East_day105_16Apr2013_mirror.png\n",
      "./shrink/square.png\n"
     ]
    }
   ],
   "source": [
    "for i in filenames[:7]:\n",
    "    print(i)"
   ]
  },
  {
   "cell_type": "code",
   "execution_count": 24,
   "metadata": {},
   "outputs": [
    {
     "name": "stdout",
     "output_type": "stream",
     "text": [
      "2021-12-15 16:23:21.717232\n",
      "./shrink/East_day105_16Apr2013_S.png\n",
      "process_one 0.020744800567626953\n",
      "process_one 0.021126747131347656\n",
      "./shrink/East_day105_16Apr2013_N.png\n",
      "process_one 0.018707990646362305\n",
      "process_one 0.018662214279174805\n",
      "./shrink/Office_day261_18Sep2013_W.png\n",
      "process_one 0.009211301803588867\n",
      "process_one 0.009948015213012695\n",
      "./shrink/Office_day261_18Sep2013_mirror.png\n",
      "process_one 0.04222273826599121\n",
      "process_one 0.04303574562072754\n",
      "./shrink/Office_day261_18Sep2013_E.png\n",
      "process_one 0.024399995803833008\n",
      "process_one 0.019318103790283203\n",
      "./shrink/East_day105_16Apr2013_mirror.png\n",
      "process_one 0.04447579383850098\n",
      "process_one 0.04724001884460449\n",
      "2021-12-15 16:23:22.081066\n"
>>>>>>> Stashed changes
     ]
    }
   ],
   "source": [
    "\n",
    "print(datetime.datetime.now())\n",
    "\n",
    "each_img_dfs=[]\n",
    "\n",
    "for i in filenames[:6]:\n",
    "    print(i)\n",
    "    img = cv2.imread(i) # import the image\n",
    "    d0,pictures0 = symmetry.process_one(img,search_ratio,color_dict=color_palette,angle=0,auto_crop=False) # angle 0 = vertical line\n",
    "    d90,pictures90 = symmetry.process_one(img,search_ratio,color_dict=color_palette,angle=90,auto_crop=False) # angle 90 = horizontal\n",
    "    # convert lists to dataframe\n",
    "    d0 = pd.DataFrame(d0)\n",
    "    d0[\"filename\"] = i\n",
    "    d90 = pd.DataFrame(d90)\n",
    "    d90[\"filename\"] = i\n",
    "    \n",
    "    # is_mirrored = (\"left\" in i) and (\"right\" in i)\n",
    "    is_mirrored = (\"irror\" in i) # changed this to \"irror\" because sometimes it's lower case m, sometimes upper case\n",
    "    d0[\"mirrored\"] = is_mirrored\n",
    "    d90[\"mirrored\"] = is_mirrored\n",
    "    \n",
    "    # add COLONY: \n",
    "    d0['colony'] = i.rsplit('/',1)[-1].rsplit('_')[0]\n",
    "    d90['colony'] = i.rsplit('/',1)[-1].rsplit('_')[0]\n",
    "    \n",
    "    # add EXP DATE, as an integer:\n",
    "    d0['expday'] = int(i.rsplit('/',1)[-1].rsplit('_')[1][3:])\n",
    "    d90['expday'] = int(i.rsplit('/',1)[-1].rsplit('_')[1][3:])\n",
    "    \n",
    "    # add DATE (right now its a string, would also be useful as a datetime)\n",
    "    d0['date'] = i.rsplit('/',1)[-1].rsplit('_')[2]\n",
    "    d90['date'] = i.rsplit('/',1)[-1].rsplit('_')[2]\n",
    "    \n",
    "    # SIDE of the nest\n",
    "    d0['side'] = i.rsplit('/',1)[-1].rsplit('_')[3]\n",
    "    d90['side'] = i.rsplit('/',1)[-1].rsplit('_')[3]\n",
    "    \n",
    "    #[ICARO]This part will calculate the \"size\" of the pictures as a pixel count.\n",
    "    d0[\"pixel_count\"] = list(map(lambda x: (x[\"fig\"]!=0).sum() ,pictures0))\n",
    "    d90[\"pixel_count\"] = d0[\"pixel_count\"]\n",
    "    \n",
    "    # append the dataframes to list\n",
    "    each_img_dfs.append(d0)\n",
    "    each_img_dfs.append(d90)\n",
    "    \n",
    "# concatenate all the dataframes into one: \n",
    "all_dfs=pd.concat(each_img_dfs, ignore_index=True)\n",
    "\n",
    "#[ICARO]In order to flip the scores so that the highest symmetry is 1: \n",
    "all_dfs[\"score_COR_flip\"] = 1-all_dfs[\"score_COR\"]\n",
    "\n",
    "# ADD something that tells you if its' X, Y, or Z-axis symmetry... \n",
    "# so, if mirrored = false, then angle 0 = X-axis symmetry (left-right), angle 90 = Y-axis symmetry (top-bottom)\n",
    "# if mirrored = TRUE, then angle 0 = Z-axis symmetry (opposite sides), and angle 90, we can ignore\n",
    "def conditions(s):\n",
    "    if (s['mirrored'] == False) and (s['angle'] == 0):\n",
    "        return 'X-axis'\n",
    "    elif (s['mirrored'] == False) and (s['angle'] == 90):\n",
    "        return 'Y-axis'\n",
    "    elif (s['mirrored'] == True) and (s['angle'] == 0):\n",
    "        return 'Z-axis'\n",
    "    else:\n",
    "        return 'NA'\n",
    "\n",
    "all_dfs['sym_type'] = all_dfs.apply(conditions, axis=1)\n",
    "\n",
    "print(datetime.datetime.now())\n",
    "    \n"
   ]
  },
  {
   "cell_type": "code",
<<<<<<< Updated upstream
   "execution_count": null,
   "metadata": {},
   "outputs": [],
=======
   "execution_count": 25,
   "metadata": {},
   "outputs": [
    {
     "data": {
      "text/html": [
       "<div>\n",
       "<style scoped>\n",
       "    .dataframe tbody tr th:only-of-type {\n",
       "        vertical-align: middle;\n",
       "    }\n",
       "\n",
       "    .dataframe tbody tr th {\n",
       "        vertical-align: top;\n",
       "    }\n",
       "\n",
       "    .dataframe thead th {\n",
       "        text-align: right;\n",
       "    }\n",
       "</style>\n",
       "<table border=\"1\" class=\"dataframe\">\n",
       "  <thead>\n",
       "    <tr style=\"text-align: right;\">\n",
       "      <th></th>\n",
       "      <th>angle</th>\n",
       "      <th>x_MSE</th>\n",
       "      <th>score_MSE</th>\n",
       "      <th>x_COR</th>\n",
       "      <th>score_COR</th>\n",
       "      <th>id</th>\n",
       "      <th>R</th>\n",
       "      <th>G</th>\n",
       "      <th>B</th>\n",
       "      <th>filename</th>\n",
       "      <th>mirrored</th>\n",
       "      <th>colony</th>\n",
       "      <th>expday</th>\n",
       "      <th>date</th>\n",
       "      <th>side</th>\n",
       "      <th>pixel_count</th>\n",
       "      <th>score_COR_flip</th>\n",
       "      <th>sym_type</th>\n",
       "    </tr>\n",
       "  </thead>\n",
       "  <tbody>\n",
       "    <tr>\n",
       "      <th>0</th>\n",
       "      <td>0</td>\n",
       "      <td>20.0</td>\n",
       "      <td>0.006748</td>\n",
       "      <td>20.0</td>\n",
       "      <td>0.621251</td>\n",
       "      <td>composition</td>\n",
       "      <td>1.000000</td>\n",
       "      <td>1.000000</td>\n",
       "      <td>1.000000</td>\n",
       "      <td>./shrink/East_day105_16Apr2013_S.png</td>\n",
       "      <td>False</td>\n",
       "      <td>East</td>\n",
       "      <td>105</td>\n",
       "      <td>16Apr2013</td>\n",
       "      <td>S.png</td>\n",
       "      <td>3253</td>\n",
       "      <td>0.378749</td>\n",
       "      <td>X-axis</td>\n",
       "    </tr>\n",
       "    <tr>\n",
       "      <th>1</th>\n",
       "      <td>0</td>\n",
       "      <td>20.0</td>\n",
       "      <td>0.006897</td>\n",
       "      <td>20.0</td>\n",
       "      <td>0.917293</td>\n",
       "      <td>uncapped_brood</td>\n",
       "      <td>0.901961</td>\n",
       "      <td>0.643137</td>\n",
       "      <td>0.000000</td>\n",
       "      <td>./shrink/East_day105_16Apr2013_S.png</td>\n",
       "      <td>False</td>\n",
       "      <td>East</td>\n",
       "      <td>105</td>\n",
       "      <td>16Apr2013</td>\n",
       "      <td>S.png</td>\n",
       "      <td>532</td>\n",
       "      <td>0.082707</td>\n",
       "      <td>X-axis</td>\n",
       "    </tr>\n",
       "    <tr>\n",
       "      <th>2</th>\n",
       "      <td>0</td>\n",
       "      <td>20.0</td>\n",
       "      <td>0.003682</td>\n",
       "      <td>20.0</td>\n",
       "      <td>0.681081</td>\n",
       "      <td>honey</td>\n",
       "      <td>0.733333</td>\n",
       "      <td>0.960784</td>\n",
       "      <td>0.807843</td>\n",
       "      <td>./shrink/East_day105_16Apr2013_S.png</td>\n",
       "      <td>False</td>\n",
       "      <td>East</td>\n",
       "      <td>105</td>\n",
       "      <td>16Apr2013</td>\n",
       "      <td>S.png</td>\n",
       "      <td>1110</td>\n",
       "      <td>0.318919</td>\n",
       "      <td>X-axis</td>\n",
       "    </tr>\n",
       "    <tr>\n",
       "      <th>3</th>\n",
       "      <td>0</td>\n",
       "      <td>20.0</td>\n",
       "      <td>0.001484</td>\n",
       "      <td>20.0</td>\n",
       "      <td>0.339168</td>\n",
       "      <td>empty</td>\n",
       "      <td>0.321569</td>\n",
       "      <td>0.321569</td>\n",
       "      <td>0.321569</td>\n",
       "      <td>./shrink/East_day105_16Apr2013_S.png</td>\n",
       "      <td>False</td>\n",
       "      <td>East</td>\n",
       "      <td>105</td>\n",
       "      <td>16Apr2013</td>\n",
       "      <td>S.png</td>\n",
       "      <td>1371</td>\n",
       "      <td>0.660832</td>\n",
       "      <td>X-axis</td>\n",
       "    </tr>\n",
       "    <tr>\n",
       "      <th>4</th>\n",
       "      <td>0</td>\n",
       "      <td>20.0</td>\n",
       "      <td>0.032787</td>\n",
       "      <td>20.0</td>\n",
       "      <td>1.000000</td>\n",
       "      <td>empty_d</td>\n",
       "      <td>0.000000</td>\n",
       "      <td>0.000000</td>\n",
       "      <td>0.000000</td>\n",
       "      <td>./shrink/East_day105_16Apr2013_S.png</td>\n",
       "      <td>False</td>\n",
       "      <td>East</td>\n",
       "      <td>105</td>\n",
       "      <td>16Apr2013</td>\n",
       "      <td>S.png</td>\n",
       "      <td>0</td>\n",
       "      <td>0.000000</td>\n",
       "      <td>X-axis</td>\n",
       "    </tr>\n",
       "    <tr>\n",
       "      <th>...</th>\n",
       "      <td>...</td>\n",
       "      <td>...</td>\n",
       "      <td>...</td>\n",
       "      <td>...</td>\n",
       "      <td>...</td>\n",
       "      <td>...</td>\n",
       "      <td>...</td>\n",
       "      <td>...</td>\n",
       "      <td>...</td>\n",
       "      <td>...</td>\n",
       "      <td>...</td>\n",
       "      <td>...</td>\n",
       "      <td>...</td>\n",
       "      <td>...</td>\n",
       "      <td>...</td>\n",
       "      <td>...</td>\n",
       "      <td>...</td>\n",
       "      <td>...</td>\n",
       "    </tr>\n",
       "    <tr>\n",
       "      <th>67</th>\n",
       "      <td>90</td>\n",
       "      <td>41.0</td>\n",
       "      <td>0.002299</td>\n",
       "      <td>41.0</td>\n",
       "      <td>0.614953</td>\n",
       "      <td>uncapped_brood</td>\n",
       "      <td>0.901961</td>\n",
       "      <td>0.643137</td>\n",
       "      <td>0.000000</td>\n",
       "      <td>./shrink/East_day105_16Apr2013_mirror.png</td>\n",
       "      <td>True</td>\n",
       "      <td>East</td>\n",
       "      <td>105</td>\n",
       "      <td>16Apr2013</td>\n",
       "      <td>mirror.png</td>\n",
       "      <td>1070</td>\n",
       "      <td>0.385047</td>\n",
       "      <td>NA</td>\n",
       "    </tr>\n",
       "    <tr>\n",
       "      <th>68</th>\n",
       "      <td>90</td>\n",
       "      <td>41.0</td>\n",
       "      <td>0.002422</td>\n",
       "      <td>41.0</td>\n",
       "      <td>0.897436</td>\n",
       "      <td>honey</td>\n",
       "      <td>0.733333</td>\n",
       "      <td>0.960784</td>\n",
       "      <td>0.807843</td>\n",
       "      <td>./shrink/East_day105_16Apr2013_mirror.png</td>\n",
       "      <td>True</td>\n",
       "      <td>East</td>\n",
       "      <td>105</td>\n",
       "      <td>16Apr2013</td>\n",
       "      <td>mirror.png</td>\n",
       "      <td>2223</td>\n",
       "      <td>0.102564</td>\n",
       "      <td>NA</td>\n",
       "    </tr>\n",
       "    <tr>\n",
       "      <th>69</th>\n",
       "      <td>90</td>\n",
       "      <td>41.0</td>\n",
       "      <td>0.001598</td>\n",
       "      <td>41.0</td>\n",
       "      <td>0.701595</td>\n",
       "      <td>empty</td>\n",
       "      <td>0.321569</td>\n",
       "      <td>0.321569</td>\n",
       "      <td>0.321569</td>\n",
       "      <td>./shrink/East_day105_16Apr2013_mirror.png</td>\n",
       "      <td>True</td>\n",
       "      <td>East</td>\n",
       "      <td>105</td>\n",
       "      <td>16Apr2013</td>\n",
       "      <td>mirror.png</td>\n",
       "      <td>2634</td>\n",
       "      <td>0.298405</td>\n",
       "      <td>NA</td>\n",
       "    </tr>\n",
       "    <tr>\n",
       "      <th>70</th>\n",
       "      <td>90</td>\n",
       "      <td>41.0</td>\n",
       "      <td>0.015038</td>\n",
       "      <td>41.0</td>\n",
       "      <td>1.000000</td>\n",
       "      <td>empty_d</td>\n",
       "      <td>0.000000</td>\n",
       "      <td>0.000000</td>\n",
       "      <td>0.000000</td>\n",
       "      <td>./shrink/East_day105_16Apr2013_mirror.png</td>\n",
       "      <td>True</td>\n",
       "      <td>East</td>\n",
       "      <td>105</td>\n",
       "      <td>16Apr2013</td>\n",
       "      <td>mirror.png</td>\n",
       "      <td>0</td>\n",
       "      <td>0.000000</td>\n",
       "      <td>NA</td>\n",
       "    </tr>\n",
       "    <tr>\n",
       "      <th>71</th>\n",
       "      <td>90</td>\n",
       "      <td>41.0</td>\n",
       "      <td>0.040000</td>\n",
       "      <td>41.0</td>\n",
       "      <td>1.000000</td>\n",
       "      <td>pollen</td>\n",
       "      <td>0.094118</td>\n",
       "      <td>0.356863</td>\n",
       "      <td>0.909804</td>\n",
       "      <td>./shrink/East_day105_16Apr2013_mirror.png</td>\n",
       "      <td>True</td>\n",
       "      <td>East</td>\n",
       "      <td>105</td>\n",
       "      <td>16Apr2013</td>\n",
       "      <td>mirror.png</td>\n",
       "      <td>150</td>\n",
       "      <td>0.000000</td>\n",
       "      <td>NA</td>\n",
       "    </tr>\n",
       "  </tbody>\n",
       "</table>\n",
       "<p>72 rows × 18 columns</p>\n",
       "</div>"
      ],
      "text/plain": [
       "    angle  x_MSE  score_MSE  x_COR  score_COR              id         R  \\\n",
       "0       0   20.0   0.006748   20.0   0.621251     composition  1.000000   \n",
       "1       0   20.0   0.006897   20.0   0.917293  uncapped_brood  0.901961   \n",
       "2       0   20.0   0.003682   20.0   0.681081           honey  0.733333   \n",
       "3       0   20.0   0.001484   20.0   0.339168           empty  0.321569   \n",
       "4       0   20.0   0.032787   20.0   1.000000         empty_d  0.000000   \n",
       "..    ...    ...        ...    ...        ...             ...       ...   \n",
       "67     90   41.0   0.002299   41.0   0.614953  uncapped_brood  0.901961   \n",
       "68     90   41.0   0.002422   41.0   0.897436           honey  0.733333   \n",
       "69     90   41.0   0.001598   41.0   0.701595           empty  0.321569   \n",
       "70     90   41.0   0.015038   41.0   1.000000         empty_d  0.000000   \n",
       "71     90   41.0   0.040000   41.0   1.000000          pollen  0.094118   \n",
       "\n",
       "           G         B                                   filename  mirrored  \\\n",
       "0   1.000000  1.000000       ./shrink/East_day105_16Apr2013_S.png     False   \n",
       "1   0.643137  0.000000       ./shrink/East_day105_16Apr2013_S.png     False   \n",
       "2   0.960784  0.807843       ./shrink/East_day105_16Apr2013_S.png     False   \n",
       "3   0.321569  0.321569       ./shrink/East_day105_16Apr2013_S.png     False   \n",
       "4   0.000000  0.000000       ./shrink/East_day105_16Apr2013_S.png     False   \n",
       "..       ...       ...                                        ...       ...   \n",
       "67  0.643137  0.000000  ./shrink/East_day105_16Apr2013_mirror.png      True   \n",
       "68  0.960784  0.807843  ./shrink/East_day105_16Apr2013_mirror.png      True   \n",
       "69  0.321569  0.321569  ./shrink/East_day105_16Apr2013_mirror.png      True   \n",
       "70  0.000000  0.000000  ./shrink/East_day105_16Apr2013_mirror.png      True   \n",
       "71  0.356863  0.909804  ./shrink/East_day105_16Apr2013_mirror.png      True   \n",
       "\n",
       "   colony  expday       date        side  pixel_count  score_COR_flip sym_type  \n",
       "0    East     105  16Apr2013       S.png         3253        0.378749   X-axis  \n",
       "1    East     105  16Apr2013       S.png          532        0.082707   X-axis  \n",
       "2    East     105  16Apr2013       S.png         1110        0.318919   X-axis  \n",
       "3    East     105  16Apr2013       S.png         1371        0.660832   X-axis  \n",
       "4    East     105  16Apr2013       S.png            0        0.000000   X-axis  \n",
       "..    ...     ...        ...         ...          ...             ...      ...  \n",
       "67   East     105  16Apr2013  mirror.png         1070        0.385047       NA  \n",
       "68   East     105  16Apr2013  mirror.png         2223        0.102564       NA  \n",
       "69   East     105  16Apr2013  mirror.png         2634        0.298405       NA  \n",
       "70   East     105  16Apr2013  mirror.png            0        0.000000       NA  \n",
       "71   East     105  16Apr2013  mirror.png          150        0.000000       NA  \n",
       "\n",
       "[72 rows x 18 columns]"
      ]
     },
     "execution_count": 25,
     "metadata": {},
     "output_type": "execute_result"
    }
   ],
>>>>>>> Stashed changes
   "source": [
    "all_dfs"
   ]
  },
  {
   "cell_type": "code",
   "execution_count": null,
<<<<<<< Updated upstream
   "metadata": {},
   "outputs": [],
=======
   "metadata": {},
   "outputs": [],
   "source": []
  },
  {
   "cell_type": "code",
   "execution_count": 27,
   "metadata": {},
   "outputs": [
    {
     "data": {
      "image/png": "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\n",
      "text/plain": [
       "<Figure size 360x360 with 1 Axes>"
      ]
     },
     "metadata": {
      "needs_background": "light"
     },
     "output_type": "display_data"
    }
   ],
>>>>>>> Stashed changes
   "source": [
    "plt.figure(figsize=(5,5))\n",
    "sns.boxplot(x='sym_type', y='score_COR_flip',\n",
    "                data=all_dfs[all_dfs['sym_type']!='NA']) # take out the NA class\n",
    "\n",
    "sns.stripplot(x = \"sym_type\",\n",
    "              y = \"score_COR_flip\",\n",
    "              color='black',\n",
    "              s=6, alpha=0.4,\n",
    "              # jitter=0.1,\n",
    "              data = all_dfs[all_dfs['sym_type']!='NA'])\n",
    "\n",
    "sns.despine()\n",
    "plt.ylim(-0.05,1.05)\n",
    "# plt.legend(bbox_to_anchor=(1.05, 1), loc=2, borderaxespad=0.)\n",
    "plt.show()\n"
   ]
  },
  {
   "cell_type": "code",
<<<<<<< Updated upstream
   "execution_count": null,
   "metadata": {},
   "outputs": [],
=======
   "execution_count": 28,
   "metadata": {},
   "outputs": [
    {
     "data": {
      "text/plain": [
       "<matplotlib.legend.Legend at 0x14dc9f820>"
      ]
     },
     "execution_count": 28,
     "metadata": {},
     "output_type": "execute_result"
    },
    {
     "data": {
      "image/png": "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\n",
      "text/plain": [
       "<Figure size 360x360 with 1 Axes>"
      ]
     },
     "metadata": {
      "needs_background": "light"
     },
     "output_type": "display_data"
    }
   ],
>>>>>>> Stashed changes
   "source": [
    "plt.figure(figsize=(5,5))\n",
    "sns.boxplot(x='sym_type', y='score_COR_flip',\n",
    "                hue='id', \n",
    "                data=all_dfs[all_dfs['sym_type']!='NA']) # take out the NA class\n",
    "\n",
    "plt.ylim(-0.05,1.05)\n",
    "sns.despine()\n",
    "plt.legend(bbox_to_anchor=(1.05, 1), loc=2, borderaxespad=0.)"
   ]
  },
  {
   "cell_type": "code",
   "execution_count": null,
   "metadata": {},
   "outputs": [],
   "source": []
  },
  {
   "cell_type": "code",
   "execution_count": null,
   "metadata": {},
   "outputs": [],
   "source": []
  },
  {
   "cell_type": "code",
   "execution_count": null,
   "metadata": {},
   "outputs": [],
   "source": []
  },
  {
   "cell_type": "code",
   "execution_count": null,
   "metadata": {},
   "outputs": [],
   "source": []
  },
  {
   "cell_type": "code",
   "execution_count": null,
   "metadata": {},
   "outputs": [],
   "source": []
  }
 ],
 "metadata": {
  "kernelspec": {
   "display_name": "Python 3",
   "language": "python",
   "name": "python3"
  },
  "language_info": {
   "codemirror_mode": {
    "name": "ipython",
    "version": 3
   },
   "file_extension": ".py",
   "mimetype": "text/x-python",
   "name": "python",
   "nbconvert_exporter": "python",
   "pygments_lexer": "ipython3",
<<<<<<< Updated upstream
   "version": "3.9.7"
=======
   "version": "3.8.9"
>>>>>>> Stashed changes
  }
 },
 "nbformat": 4,
 "nbformat_minor": 4
}
