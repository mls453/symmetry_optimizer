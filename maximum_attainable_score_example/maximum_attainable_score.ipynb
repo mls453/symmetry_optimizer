{
 "cells": [
  {
   "cell_type": "code",
   "execution_count": 8,
   "id": "69afa09b-929b-434f-8dc2-839626a2ab92",
   "metadata": {},
   "outputs": [],
   "source": [
    "import numpy as np\n",
    "import matplotlib.pyplot as plt\n",
    "import cv2\n",
    "import sys\n",
    "sys.path.append(\"../\")\n",
    "import cvfunc"
   ]
  },
  {
   "cell_type": "code",
   "execution_count": 13,
   "id": "7c5bc806-d463-48e7-9448-e52c0506280b",
   "metadata": {},
   "outputs": [],
   "source": [
    "color_dict = {\n",
    "    \"bg\":[0,0,0,0,0,0],\n",
    "    \"red\":[0,0,255,0,0,255],\n",
    "    \"green\":[0,255,0,0,255,0],\n",
    "    \"blue\":[255,0,0,255,0,0]\n",
    "}"
   ]
  },
  {
   "cell_type": "code",
   "execution_count": 2,
   "id": "e9cd3e66-a9fb-4334-b0e8-6d8330a4b91d",
   "metadata": {},
   "outputs": [],
   "source": [
    "im1 = cv2.imread(\"example_1.png\")\n",
    "im2 = cv2.imread(\"example_2.png\")"
   ]
  },
  {
   "cell_type": "code",
   "execution_count": 3,
   "id": "7d408abd-797a-4a78-ab18-a408589dad5d",
   "metadata": {},
   "outputs": [
    {
     "data": {
      "text/plain": [
       "<matplotlib.image.AxesImage at 0x7f6e117b6790>"
      ]
     },
     "execution_count": 3,
     "metadata": {},
     "output_type": "execute_result"
    },
    {
     "data": {
      "image/png": "[encoded data removed]",
      "text/plain": [
       "<Figure size 432x288 with 1 Axes>"
      ]
     },
     "metadata": {
      "needs_background": "light"
     },
     "output_type": "display_data"
    }
   ],
   "source": [
    "plt.imshow(im1)"
   ]
  },
  {
   "cell_type": "code",
   "execution_count": 4,
   "id": "35be853b-196b-4981-b118-0711a0de8881",
   "metadata": {},
   "outputs": [
    {
     "data": {
      "text/plain": [
       "<matplotlib.image.AxesImage at 0x7f6e0f647580>"
      ]
     },
     "execution_count": 4,
     "metadata": {},
     "output_type": "execute_result"
    },
    {
     "data": {
      "image/png": "[encoded data removed]",
      "text/plain": [
       "<Figure size 432x288 with 1 Axes>"
      ]
     },
     "metadata": {
      "needs_background": "light"
     },
     "output_type": "display_data"
    }
   ],
   "source": [
    "plt.imshow(im2)"
   ]
  },
  {
   "cell_type": "code",
   "execution_count": 28,
   "id": "b8708088-cdd9-48fe-9fb7-7d2b0f33825b",
   "metadata": {},
   "outputs": [],
   "source": [
    "layers1, n1 = cvfunc.img_to_layer_mask(im1,color_dict)\n",
    "layer1 = sum([(k+1)*layer for k,layer in enumerate(layers1)])\n",
    "layers2, n2 = cvfunc.img_to_layer_mask(im2,color_dict)\n",
    "layer2 = sum([(k+1)*layer for k,layer in enumerate(layers2)])"
   ]
  },
  {
   "cell_type": "code",
   "execution_count": 33,
   "id": "c89d96ad-e2f9-46a8-b9e5-204b6eccefe4",
   "metadata": {},
   "outputs": [
    {
     "data": {
      "text/plain": [
       "<matplotlib.image.AxesImage at 0x7f6e07f207f0>"
      ]
     },
     "execution_count": 33,
     "metadata": {},
     "output_type": "execute_result"
    },
    {
     "data": {
      "image/png": "[encoded data removed]",
      "text/plain": [
       "<Figure size 432x288 with 1 Axes>"
      ]
     },
     "metadata": {
      "needs_background": "light"
     },
     "output_type": "display_data"
    }
   ],
   "source": [
    "#Intersection\n",
    "layer_intersection = layer1*layer2\n",
    "n_intersection = len(layer_intersection.nonzero()[0])\n",
    "plt.imshow(layer_intersection)"
   ]
  },
  {
   "cell_type": "code",
   "execution_count": 34,
   "id": "471eb52f-d53e-40cb-8c38-e343550ab2be",
   "metadata": {},
   "outputs": [
    {
     "data": {
      "text/plain": [
       "16"
      ]
     },
     "execution_count": 34,
     "metadata": {},
     "output_type": "execute_result"
    }
   ],
   "source": [
    "n_intersection"
   ]
  },
  {
   "cell_type": "code",
   "execution_count": 35,
   "id": "33a26f12-f5d3-4871-93bc-d73d5452a33a",
   "metadata": {},
   "outputs": [],
   "source": [
    "#Color areas\n",
    "color_area_1 = [len(layer.nonzero()[0]) for layer in layers1]\n",
    "color_area_2 = [len(layer.nonzero()[0]) for layer in layers2]"
   ]
  },
  {
   "cell_type": "code",
   "execution_count": 38,
   "id": "e63b42be-0a38-44c2-ab82-c9dd20e40fab",
   "metadata": {},
   "outputs": [],
   "source": [
    "color_area_min = [min(a,b) for a,b in zip(color_area_1,color_area_2)]"
   ]
  },
  {
   "cell_type": "code",
   "execution_count": 39,
   "id": "42681733-d0d7-4927-9818-1d3a90e8af1a",
   "metadata": {},
   "outputs": [
    {
     "data": {
      "text/plain": [
       "[7, 3, 8]"
      ]
     },
     "execution_count": 39,
     "metadata": {},
     "output_type": "execute_result"
    }
   ],
   "source": [
    "#Maximum number of matches that can be attained for each color through random permutations\n",
    "color_area_min"
   ]
  },
  {
   "cell_type": "code",
   "execution_count": null,
   "id": "2a41fbce-29b4-4a6f-bf41-e8f47131d7b7",
   "metadata": {},
   "outputs": [],
   "source": []
  }
 ],
 "metadata": {
  "kernelspec": {
   "display_name": "Python 3",
   "language": "python",
   "name": "python3"
  },
  "language_info": {
   "codemirror_mode": {
    "name": "ipython",
    "version": 3
   },
   "file_extension": ".py",
   "mimetype": "text/x-python",
   "name": "python",
   "nbconvert_exporter": "python",
   "pygments_lexer": "ipython3",
   "version": "3.9.7"
  }
 },
 "nbformat": 4,
 "nbformat_minor": 5
}
